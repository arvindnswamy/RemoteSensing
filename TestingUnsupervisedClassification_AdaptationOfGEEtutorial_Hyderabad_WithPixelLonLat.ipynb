{
 "cells": [
  {
   "cell_type": "code",
   "execution_count": 1,
   "metadata": {
    "colab": {
     "base_uri": "https://localhost:8080/",
     "height": 176
    },
    "colab_type": "code",
    "id": "la3sPxooKm8M",
    "outputId": "79be6a82-1bfe-4019-fd15-e2605e5dc0a7"
   },
   "outputs": [
    {
     "data": {
      "text/html": [
       "<p>To authorize access needed by Earth Engine, open the following\n",
       "        URL in a web browser and follow the instructions:</p>\n",
       "        <p><a href=https://accounts.google.com/o/oauth2/auth?client_id=517222506229-vsmmajv00ul0bs7p89v5m89qs8eb9359.apps.googleusercontent.com&scope=https%3A%2F%2Fwww.googleapis.com%2Fauth%2Fearthengine+https%3A%2F%2Fwww.googleapis.com%2Fauth%2Fdevstorage.full_control&redirect_uri=urn%3Aietf%3Awg%3Aoauth%3A2.0%3Aoob&response_type=code&code_challenge=zwogJe7QKjolcYr4mWOQ6Xp3tndzgxx1Cm4_yor6Ru4&code_challenge_method=S256>https://accounts.google.com/o/oauth2/auth?client_id=517222506229-vsmmajv00ul0bs7p89v5m89qs8eb9359.apps.googleusercontent.com&scope=https%3A%2F%2Fwww.googleapis.com%2Fauth%2Fearthengine+https%3A%2F%2Fwww.googleapis.com%2Fauth%2Fdevstorage.full_control&redirect_uri=urn%3Aietf%3Awg%3Aoauth%3A2.0%3Aoob&response_type=code&code_challenge=zwogJe7QKjolcYr4mWOQ6Xp3tndzgxx1Cm4_yor6Ru4&code_challenge_method=S256</a></p>\n",
       "        <p>The authorization workflow will generate a code, which you\n",
       "        should paste in the box below</p>\n",
       "        "
      ],
      "text/plain": [
       "<IPython.core.display.HTML object>"
      ]
     },
     "metadata": {},
     "output_type": "display_data"
    },
    {
     "name": "stdout",
     "output_type": "stream",
     "text": [
      "\n",
      "Successfully saved authorization token.\n"
     ]
    }
   ],
   "source": [
    "import ee\n",
    "\n",
    "from IPython.display import Image\n",
    "\n",
    "ee.Authenticate() #Usual authentication, so far. Nothing new"
   ]
  },
  {
   "cell_type": "code",
   "execution_count": 3,
   "metadata": {
    "colab": {},
    "colab_type": "code",
    "id": "FKk3kD9rLMpZ"
   },
   "outputs": [],
   "source": [
    "ee.Initialize()"
   ]
  },
  {
   "cell_type": "code",
   "execution_count": 4,
   "metadata": {
    "colab": {},
    "colab_type": "code",
    "id": "RhlV3oCsLWrX"
   },
   "outputs": [],
   "source": [
    "#Function to download images as a list - thanks Connor Finn. \n",
    "def get_images(path_list, row_list, satellite, start_date, end_date, max_cloud_percentage):\n",
    "  coll = ee.ImageCollection(satellite).filterDate(start_date, end_date)\\\n",
    "            .filter(ee.Filter.inList('WRS_PATH', path_list))\\\n",
    "            .filter(ee.Filter.inList('WRS_ROW', row_list))\\\n",
    "            .filter(ee.Filter.lt('CLOUD_COVER', max_cloud_percentage))\n",
    "  image_ids = list(map(lambda x: x['id'], coll.getInfo()['features']))\n",
    "\n",
    "  images = list(map(lambda x: ee.Image(x), image_ids))\n",
    "\n",
    "  return images"
   ]
  },
  {
   "cell_type": "code",
   "execution_count": 5,
   "metadata": {
    "colab": {
     "base_uri": "https://localhost:8080/",
     "height": 243
    },
    "colab_type": "code",
    "id": "KfGPZ4MvLr0f",
    "outputId": "f88c62ef-bd6a-494d-9a80-0ff05fc8bd49"
   },
   "outputs": [
    {
     "name": "stdout",
     "output_type": "stream",
     "text": [
      "Requirement already satisfied: geojson in /home/arvindn/anaconda3/envs/ee/lib/python3.7/site-packages (2.5.0)\n",
      "Requirement already satisfied: pygeoj in /home/arvindn/anaconda3/envs/ee/lib/python3.7/site-packages (1.0.0)\n"
     ]
    }
   ],
   "source": [
    "'''\n",
    "Functions needed to display images and features/featurecollections are given here. \n",
    "These functions are all from other sources. Mostly from google tutorials.\n",
    "'''\n",
    "!pip install geojson\n",
    "!pip install pygeoj\n",
    "import geojson\n",
    "import json\n",
    "import pygeoj\n",
    "import numpy as np\n",
    "\n",
    "\n",
    "import folium\n",
    "\n",
    "\n",
    "# Define a method for displaying Earth Engine image tiles to folium map.\n",
    "def add_ee_layer(self, ee_image_object, vis_params, name):\n",
    "  map_id_dict = ee.Image(ee_image_object).getMapId(vis_params)\n",
    "  folium.raster_layers.TileLayer(\n",
    "    tiles = map_id_dict['tile_fetcher'].url_format,\n",
    "    attr = \"Map Data © Google Earth Engine\",\n",
    "    name = name,\n",
    "    overlay = True,\n",
    "    control = True\n",
    "  ).add_to(self)\n",
    "\n",
    "# Add EE drawing method to folium.\n",
    "folium.Map.add_ee_layer = add_ee_layer\n",
    "\n",
    "#@title Mapdisplay: Display GEE objects using folium.\n",
    "def Mapdisplay(center, dicc, Tiles=\"OpensTreetMap\",zoom_start=10):\n",
    "    '''\n",
    "    :param center: Center of the map (Latitude and Longitude).\n",
    "    :param dicc: Earth Engine Geometries or Tiles dictionary\n",
    "    :param Tiles: Mapbox Bright,Mapbox Control Room,Stamen Terrain,Stamen Toner,stamenwatercolor,cartodbpositron.\n",
    "    :zoom_start: Initial zoom level for the map.\n",
    "    :return: A folium.Map object.\n",
    "    '''\n",
    "    mapViz = folium.Map(location=center,tiles=Tiles, zoom_start=zoom_start)\n",
    "    for k,v in dicc.items():\n",
    "      if ee.image.Image in [type(x) for x in v.values()]:\n",
    "        folium.TileLayer(\n",
    "            tiles = v[\"tile_fetcher\"].url_format,\n",
    "            attr  = 'Google Earth Engine',\n",
    "            overlay =True,\n",
    "            name  = k\n",
    "          ).add_to(mapViz)\n",
    "      else:\n",
    "        folium.GeoJson(\n",
    "        data = v,\n",
    "        name = k\n",
    "          ).add_to(mapViz)\n",
    "    mapViz.add_child(folium.LayerControl())\n",
    "    return mapViz"
   ]
  },
  {
   "cell_type": "code",
   "execution_count": 6,
   "metadata": {
    "colab": {},
    "colab_type": "code",
    "id": "H_-bb0PqLyF-"
   },
   "outputs": [],
   "source": [
    "p = [144]\n",
    "r = [48]\n",
    "sat = 'LANDSAT/LC08/C01/T1'\n",
    "sd = '2013-05-01'\n",
    "ed = '2020-05-01'\n",
    "cc= 5\n",
    "\n",
    "image_list = get_images(p, r, sat, sd, ed, cc)"
   ]
  },
  {
   "cell_type": "code",
   "execution_count": 7,
   "metadata": {
    "colab": {},
    "colab_type": "code",
    "id": "N0jlJFKVL9JM"
   },
   "outputs": [],
   "source": [
    "inputimg = image_list[0]\n",
    "\n",
    "def addBandsToLandsat8_NDWI_NDVI_PixelLonLat(image):\n",
    "  '''\n",
    "  Function to add bands NDWI, NDVI, and PixelLonLat to a Landsat8 image\n",
    "  '''\n",
    "  ndwi = image.normalizedDifference(['B3', 'B6']).rename('ndwi')\n",
    "  ndvi = image.normalizedDifference(['B5', 'B4']).rename('ndvi')\n",
    "  imgpixLonLat = image.pixelLonLat()\n",
    "\n",
    "  image1 = image.addBands(ndwi).addBands(ndvi).addBands(imgpixLonLat)\n",
    "\n",
    "  return image1\n",
    "\n",
    "inputimgWithAddedBands = addBandsToLandsat8_NDWI_NDVI_PixelLonLat(inputimg)"
   ]
  },
  {
   "cell_type": "code",
   "execution_count": 8,
   "metadata": {
    "colab": {},
    "colab_type": "code",
    "id": "D83h4qJXMPZB"
   },
   "outputs": [],
   "source": [
    "roisite = ee.Geometry.Rectangle([77999/1000, 17135/1000, 78889/1000, 17701/1000]);"
   ]
  },
  {
   "cell_type": "code",
   "execution_count": 9,
   "metadata": {
    "colab": {},
    "colab_type": "code",
    "id": "gq-XbsHxMmOx"
   },
   "outputs": [],
   "source": [
    "#training = inputimg.sample({'region': nycsite, 'scale': 30.0, 'numPixels': 5000});\n",
    "bandToBeUsed = ['B1', 'B2', 'B3', 'B4', 'B5', 'B6', 'B7', 'B9', 'B10', 'B11', 'ndwi', 'ndvi']\n",
    "training = inputimgWithAddedBands.select(bandToBeUsed).sample(region = roisite, scale = 30.0, numPixels = 5000); #Training is based on 500 randomly chosen pizels from within NYC area"
   ]
  },
  {
   "cell_type": "code",
   "execution_count": 10,
   "metadata": {
    "colab": {},
    "colab_type": "code",
    "id": "mqUDd0n4Mw0O"
   },
   "outputs": [],
   "source": [
    "numClusters = 3 #Number of clusters, I suspect. I think this should correspond to urban, non-urban, and water.\n",
    "clusterer = ee.Clusterer.wekaKMeans(numClusters).train(training) #Not sure what wekaMeans is - just the code used in the GEE tutorial"
   ]
  },
  {
   "cell_type": "code",
   "execution_count": 11,
   "metadata": {
    "colab": {},
    "colab_type": "code",
    "id": "qEX9jEhSNVIA"
   },
   "outputs": [],
   "source": [
    "result = inputimgWithAddedBands.cluster(clusterer); #Clustered result"
   ]
  },
  {
   "cell_type": "code",
   "execution_count": 13,
   "metadata": {
    "colab": {
     "base_uri": "https://localhost:8080/",
     "height": 842
    },
    "colab_type": "code",
    "id": "OWuCtrioNZs4",
    "outputId": "e869b0b2-4b62-4a5e-ad9f-b7bb2ae1adf5"
   },
   "outputs": [
    {
     "data": {
      "text/html": [
       "<div style=\"width:100%;\"><div style=\"position:relative;width:100%;height:0;padding-bottom:60%;\"><span style=\"color:#565656\">Make this Notebook Trusted to load map: File -> Trust Notebook</span><iframe src=\"about:blank\" style=\"position:absolute;width:100%;height:100%;left:0;top:0;border:none !important;\" data-html=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 onload=\"this.contentDocument.open();this.contentDocument.write(atob(this.getAttribute('data-html')));this.contentDocument.close();\" allowfullscreen webkitallowfullscreen mozallowfullscreen></iframe></div></div>"
      ],
      "text/plain": [
       "<folium.folium.Map at 0x7f6b52c349d0>"
      ]
     },
     "execution_count": 13,
     "metadata": {},
     "output_type": "execute_result"
    }
   ],
   "source": [
    "my_map = folium.Map(location=[ 17.429, 78.483], zoom_start=9, height=500) #Adding result to folium map\n",
    "\n",
    "my_map.add_ee_layer(result, {'min': 0, 'max': numClusters-1, 'palette': ['white', 'blue', 'green'], 'opacity':0.9}, 'clustering')\n",
    "#my_map.add_ee_layer(inputimg.select(['B4','B3','B2']), {'min': 0, 'max': 30000, 'palette': [], 'opacity': 0.8}, 'image')\n",
    "my_map.add_child(folium.LayerControl())"
   ]
  },
  {
   "cell_type": "code",
   "execution_count": 14,
   "metadata": {
    "colab": {
     "base_uri": "https://localhost:8080/",
     "height": 72
    },
    "colab_type": "code",
    "id": "XKWOYe7yPKq8",
    "outputId": "57ef4fa3-528c-4ca6-f47e-c8faf534f481"
   },
   "outputs": [],
   "source": [
    "import seaborn as sns\n",
    "import matplotlib.pyplot as plt\n",
    "\n",
    "toBeHisted = result.sample(numPixels = 1000).reduceColumns(ee.Reducer.toList().repeat(1), ['cluster']).get('list').getInfo()[0]"
   ]
  },
  {
   "cell_type": "code",
   "execution_count": 15,
   "metadata": {
    "colab": {
     "base_uri": "https://localhost:8080/",
     "height": 317
    },
    "colab_type": "code",
    "id": "iz3Pd4d5uLda",
    "outputId": "ba49b492-6fef-4afd-a662-22dc943b776a"
   },
   "outputs": [
    {
     "data": {
      "text/plain": [
       "(array([460.,  45., 475.]),\n",
       " array([0.        , 0.66666667, 1.33333333, 2.        ]),\n",
       " <a list of 3 Patch objects>)"
      ]
     },
     "execution_count": 15,
     "metadata": {},
     "output_type": "execute_result"
    },
    {
     "data": {
      "image/png": "[encoded data removed]",
      "text/plain": [
       "<Figure size 432x288 with 1 Axes>"
      ]
     },
     "metadata": {
      "needs_background": "light"
     },
     "output_type": "display_data"
    }
   ],
   "source": [
    "plt.hist(toBeHisted, bins = numClusters,  align='mid')"
   ]
  },
  {
   "cell_type": "code",
   "execution_count": 16,
   "metadata": {
    "colab": {
     "base_uri": "https://localhost:8080/",
     "height": 282
    },
    "colab_type": "code",
    "id": "XCNAwCyj9Glv",
    "outputId": "2c439eac-bcc6-406a-9b29-65ddf71fa321"
   },
   "outputs": [
    {
     "data": {
      "text/plain": [
       "<matplotlib.axes._subplots.AxesSubplot at 0x7f6b52c34bd0>"
      ]
     },
     "execution_count": 16,
     "metadata": {},
     "output_type": "execute_result"
    },
    {
     "data": {
      "image/png": "[encoded data removed]",
      "text/plain": [
       "<Figure size 432x288 with 1 Axes>"
      ]
     },
     "metadata": {
      "needs_background": "light"
     },
     "output_type": "display_data"
    }
   ],
   "source": [
    "import seaborn as sns\n",
    "sns.distplot(ee.List(inputimgWithAddedBands.select(['ndwi']).sample(numPixels = 1000).reduceColumns(ee.Reducer.toList().repeat(1), ['ndwi']).get('list')).getInfo(),\n",
    "             label='B3B6')\n",
    "sns.distplot(ee.List(inputimgWithAddedBands.select(['ndvi']).sample(numPixels = 1000).reduceColumns(ee.Reducer.toList().repeat(1), ['ndvi']).get('list')).getInfo(),label='B5B4')"
   ]
  },
  {
   "cell_type": "code",
   "execution_count": 17,
   "metadata": {
    "colab": {},
    "colab_type": "code",
    "id": "4yc5jr9U-IYZ"
   },
   "outputs": [],
   "source": [
    "waterRegion = inputimgWithAddedBands.select(['ndwi']).gt(0.05)\n",
    "greenRegion = inputimgWithAddedBands.select(['ndvi']).gt(0.2)"
   ]
  },
  {
   "cell_type": "code",
   "execution_count": 18,
   "metadata": {
    "colab": {
     "base_uri": "https://localhost:8080/",
     "height": 621
    },
    "colab_type": "code",
    "id": "ko4xnf6z-grT",
    "outputId": "5f3ac227-eb05-45fb-c3d9-aae57611bd05"
   },
   "outputs": [
    {
     "data": {
      "text/html": [
       "<img src=\"https://earthengine.googleapis.com/v1alpha/projects/earthengine-legacy/thumbnails/274b9f5e866a4a2581f6682f1a189e1a-d356c71e8532382cb3199087b128a89d:getPixels\"/>"
      ],
      "text/plain": [
       "<IPython.core.display.Image object>"
      ]
     },
     "execution_count": 18,
     "metadata": {},
     "output_type": "execute_result"
    }
   ],
   "source": [
    "parameters = {'min': 0,\n",
    "              'max': 1.0,\n",
    "              'dimensions': 600}\n",
    "Image(url = waterRegion.select(['ndwi']).getThumbUrl(parameters))\n",
    "\n",
    "#Image(url = greenRegion.select(['ndvi']).getThumbUrl(parameters))"
   ]
  },
  {
   "cell_type": "code",
   "execution_count": 19,
   "metadata": {
    "colab": {
     "base_uri": "https://localhost:8080/",
     "height": 842
    },
    "colab_type": "code",
    "id": "7dN-z8cfDhd7",
    "outputId": "0e2c0487-1c64-47ff-d820-4ca0178e20ad"
   },
   "outputs": [
    {
     "data": {
      "text/html": [
       "<div style=\"width:100%;\"><div style=\"position:relative;width:100%;height:0;padding-bottom:60%;\"><span style=\"color:#565656\">Make this Notebook Trusted to load map: File -> Trust Notebook</span><iframe src=\"about:blank\" style=\"position:absolute;width:100%;height:100%;left:0;top:0;border:none !important;\" data-html=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 onload=\"this.contentDocument.open();this.contentDocument.write(atob(this.getAttribute('data-html')));this.contentDocument.close();\" allowfullscreen webkitallowfullscreen mozallowfullscreen></iframe></div></div>"
      ],
      "text/plain": [
       "<folium.folium.Map at 0x7f6b4d82d310>"
      ]
     },
     "execution_count": 19,
     "metadata": {},
     "output_type": "execute_result"
    }
   ],
   "source": [
    "my_map = folium.Map(location=[ 17.429, 78.483], zoom_start=9, height=500) #Adding result to folium map\n",
    "\n",
    "my_map.add_ee_layer(result, {'min': 0, 'max': numClusters-1, 'palette': ['white', 'blue', 'green'], 'opacity':0.6}, 'clustering')\n",
    "my_map.add_ee_layer(waterRegion.select(['ndwi']), {'min': 0, 'max': 1, 'palette': ['white', 'blue'], 'opacity':0.6}, 'ndwi')\n",
    "my_map.add_ee_layer(greenRegion.select(['ndvi']), {'min': 0, 'max': 1, 'palette': ['white', 'green'], 'opacity':0.6}, 'ndvi')\n",
    "my_map.add_child(folium.LayerControl())"
   ]
  },
  {
   "cell_type": "code",
   "execution_count": 20,
   "metadata": {
    "colab": {},
    "colab_type": "code",
    "id": "2H4OJiRJDjUf"
   },
   "outputs": [],
   "source": [
    "import cv2 as cv2"
   ]
  },
  {
   "cell_type": "code",
   "execution_count": 21,
   "metadata": {
    "colab": {},
    "colab_type": "code",
    "id": "H-bbJeMKxOUc"
   },
   "outputs": [],
   "source": [
    "import numpy as np"
   ]
  },
  {
   "cell_type": "code",
   "execution_count": 22,
   "metadata": {
    "colab": {},
    "colab_type": "code",
    "id": "kJzZpjSK-DdA"
   },
   "outputs": [],
   "source": [
    "waterRegionWithLatLon = waterRegion.addBands(waterRegion.pixelLonLat())\n",
    "\n",
    "ndwiImage = waterRegionWithLatLon.select(['ndwi'])\n",
    "lats = waterRegionWithLatLon.select(['latitude'])\n",
    "lons = waterRegionWithLatLon.select(['longitude'])\n",
    "\n",
    "'''\n",
    "ndwiImage = ndwiImage.reduceRegion(reducer   = ee.Reducer.toList(), \n",
    "                                   geometry  = roisite,\n",
    "                                   maxPixels = 1e8, \n",
    "                                   scale     = 30)\n",
    "\n",
    "lats = lats.reduceRegion(reducer   = ee.Reducer.toList(), \n",
    "                                   geometry  = roisite,\n",
    "                                   maxPixels = 1e8, \n",
    "                                   scale     = 30)\n",
    "\n",
    "lons = lons.reduceRegion(reducer   = ee.Reducer.toList(), \n",
    "                                   geometry  = roisite, \n",
    "                                   maxPixels = 1e8, \n",
    "                                   scale     = 30)\n",
    "'''\n",
    "\n",
    "waterRegionWithLatLon = waterRegionWithLatLon.reduceRegion(reducer   = ee.Reducer.toList(), \n",
    "                                   geometry  = roisite, \n",
    "                                   #maxPixels = 3e8,\n",
    "                                   bestEffort = True, \n",
    "                                   scale     = 30)"
   ]
  },
  {
   "cell_type": "code",
   "execution_count": null,
   "metadata": {
    "colab": {},
    "colab_type": "code",
    "id": "Hfq7h-rh-qo_"
   },
   "outputs": [],
   "source": [
    "#ndwi_values = np.array(ee.Array(ndwiImage.get('ndwi')).getInfo()) #By using a different source for ndvi, lats, and lons, ndwi length is different from lats and lons"
   ]
  },
  {
   "cell_type": "code",
   "execution_count": null,
   "metadata": {
    "colab": {},
    "colab_type": "code",
    "id": "DfatwgAbCCSC"
   },
   "outputs": [],
   "source": [
    "#lats_values = np.array(ee.Array(lats.get('latitude')).getInfo()) #By using a different source for ndvi, lats, and lons, ndwi length is different from lats and lons"
   ]
  },
  {
   "cell_type": "code",
   "execution_count": null,
   "metadata": {
    "colab": {},
    "colab_type": "code",
    "id": "E3DRi25CMIht"
   },
   "outputs": [],
   "source": [
    "#lons_values = np.array(ee.Array(lons.get('longitude')).getInfo()) #By using a different source for ndvi, lats, and lons, ndwi length is different from lats and lons"
   ]
  },
  {
   "cell_type": "code",
   "execution_count": 24,
   "metadata": {
    "colab": {},
    "colab_type": "code",
    "id": "ePaLi2yWlosd"
   },
   "outputs": [],
   "source": [
    "#waterRegionWithLatLon = waterRegion.addBands(waterRegion.pixelLonLat())\n",
    "##By using a different source for ndvi, lats, and lons, ndwi length is different from lats and lons. Here, I am using the same source.\n",
    "ndwi_values = np.array(ee.Array(waterRegionWithLatLon.get('ndwi')).getInfo())\n",
    "lats_values = np.array(ee.Array(waterRegionWithLatLon.get('latitude')).getInfo())\n",
    "lons_values = np.array(ee.Array(waterRegionWithLatLon.get('longitude')).getInfo())"
   ]
  },
  {
   "cell_type": "code",
   "execution_count": 128,
   "metadata": {
    "colab": {},
    "colab_type": "code",
    "id": "2bmR19I-M6ZZ"
   },
   "outputs": [],
   "source": [
    "import pandas as pd\n",
    "\n",
    "dicts = {'ndwi': ndwi_values, 'latitude': lats_values, 'longitude': lons_values}\n",
    "\n",
    "ndwi_df = pd.DataFrame(dicts)"
   ]
  },
  {
   "cell_type": "code",
   "execution_count": 129,
   "metadata": {
    "colab": {
     "base_uri": "https://localhost:8080/",
     "height": 34
    },
    "colab_type": "code",
    "id": "tQ2NxFjRPcMs",
    "outputId": "41f03ab8-e2b9-4bc0-bd34-475cc37a1cdc"
   },
   "outputs": [
    {
     "name": "stdout",
     "output_type": "stream",
     "text": [
      "3333461 3333461 3333461\n"
     ]
    }
   ],
   "source": [
    "print(len(ndwi_values), len(lats_values), len(lons_values)) #When I use the same source, I get list of equal length"
   ]
  },
  {
   "cell_type": "code",
   "execution_count": null,
   "metadata": {
    "colab": {},
    "colab_type": "code",
    "id": "yIEY-ykvjok2"
   },
   "outputs": [],
   "source": []
  },
  {
   "cell_type": "code",
   "execution_count": 28,
   "metadata": {
    "colab": {},
    "colab_type": "code",
    "id": "B6bWmaWC5IFJ"
   },
   "outputs": [],
   "source": [
    "lats_values_unique = np.unique(lats_values)"
   ]
  },
  {
   "cell_type": "code",
   "execution_count": 31,
   "metadata": {},
   "outputs": [
    {
     "data": {
      "text/plain": [
       "numpy.ndarray"
      ]
     },
     "execution_count": 31,
     "metadata": {},
     "output_type": "execute_result"
    }
   ],
   "source": [
    "type(lats_values)"
   ]
  },
  {
   "cell_type": "code",
   "execution_count": 130,
   "metadata": {},
   "outputs": [],
   "source": [
    "picker = np.random.randint(low=0, high=3333461, size=40000)"
   ]
  },
  {
   "cell_type": "code",
   "execution_count": 131,
   "metadata": {},
   "outputs": [],
   "source": [
    "ndwivals_rand = ndwi_values[picker]"
   ]
  },
  {
   "cell_type": "code",
   "execution_count": 132,
   "metadata": {},
   "outputs": [],
   "source": [
    "lats_rand = lats_values[picker]"
   ]
  },
  {
   "cell_type": "code",
   "execution_count": 133,
   "metadata": {},
   "outputs": [],
   "source": [
    "lons_rand = lons_values[picker]"
   ]
  },
  {
   "cell_type": "code",
   "execution_count": 134,
   "metadata": {
    "scrolled": true
   },
   "outputs": [
    {
     "data": {
      "text/plain": [
       "<matplotlib.colorbar.Colorbar at 0x7fa45b5bbcd0>"
      ]
     },
     "execution_count": 134,
     "metadata": {},
     "output_type": "execute_result"
    },
    {
     "data": {
      "image/png": "[encoded data removed]",
      "text/plain": [
       "<Figure size 432x288 with 2 Axes>"
      ]
     },
     "metadata": {
      "needs_background": "light"
     },
     "output_type": "display_data"
    }
   ],
   "source": [
    "import matplotlib.pyplot as plt\n",
    "from mpl_toolkits import mplot3d\n",
    "\n",
    "f = plt.figure()\n",
    "ax1 = plt.axes(projection=\"3d\")\n",
    "\n",
    "#x, y = np.meshgrid(lons_rand, lats_rand)\n",
    "\n",
    "my_cmap = plt.get_cmap('Blues')\n",
    "\n",
    "#scat = ax1.scatter3D(lats_rand, lons_rand, -ndwivals_rand, c=-ndwivals_rand, cmap=my_cmap, alpha=0.6)\n",
    "scat = ax1.scatter3D(lats_rand, lons_rand, -ndwivals_rand, c=-ndwivals_rand, cmap=my_cmap)\n",
    "ax1.view_init(elev=-90, azim=0)\n",
    "ax1.set_zlim([0.4,1])\n",
    "\n",
    "f.colorbar(scat, ax = ax1, shrink = 0.5, aspect = 5)"
   ]
  },
  {
   "cell_type": "code",
   "execution_count": 123,
   "metadata": {},
   "outputs": [
    {
     "data": {
      "text/plain": [
       "<matplotlib.colorbar.Colorbar at 0x7fa41b656f90>"
      ]
     },
     "execution_count": 123,
     "metadata": {},
     "output_type": "execute_result"
    },
    {
     "data": {
      "image/png": "[encoded data removed]",
      "text/plain": [
       "<Figure size 432x288 with 2 Axes>"
      ]
     },
     "metadata": {
      "needs_background": "light"
     },
     "output_type": "display_data"
    }
   ],
   "source": [
    "import matplotlib.pyplot as plt\n",
    "from mpl_toolkits import mplot3d\n",
    "\n",
    "f = plt.figure()\n",
    "ax1 = plt.axes(projection=\"3d\")\n",
    "\n",
    "#x, y = np.meshgrid(lons_rand, lats_rand)\n",
    "\n",
    "my_cmap = plt.get_cmap('Blues')\n",
    "\n",
    "#scat = ax1.scatter3D(lats_rand, lons_rand, -ndwivals_rand, c=-ndwivals_rand, cmap=my_cmap, alpha=0.6)\n",
    "scat = ax1.scatter3D(lats_rand, lons_rand, ndwivals_rand, c=ndwivals_rand, cmap=my_cmap)\n",
    "\n",
    "\n",
    "f.colorbar(scat, ax = ax1, shrink = 0.5, aspect = 5)"
   ]
  },
  {
   "cell_type": "code",
   "execution_count": 196,
   "metadata": {
    "scrolled": true
   },
   "outputs": [],
   "source": [
    "exportROI = roisite\n",
    "\n",
    "from ee import batch\n",
    "\n",
    "#outputImage = results.map(lambda x: x.multiply(512).uint8())\n",
    "\n",
    "task = ee.batch.Export.image.toDrive(image = result, description = 'clusteredHyd', \n",
    "                                     scale = 30, \n",
    "                                     region = exportROI.getInfo()['coordinates'],\n",
    "                                     crs = inputimg.select(['B1']).projection().getInfo()['crs'])\n",
    "\n",
    "task.start()\n",
    "\n",
    "#batch.Task.start(task)"
   ]
  },
  {
   "cell_type": "code",
   "execution_count": 172,
   "metadata": {},
   "outputs": [
    {
     "name": "stdout",
     "output_type": "stream",
     "text": [
      "Collecting rasterio\n",
      "  Downloading rasterio-1.1.5-cp37-cp37m-manylinux1_x86_64.whl (18.2 MB)\n",
      "\u001b[K     |████████████████████████████████| 18.2 MB 2.4 MB/s eta 0:00:01    |████████████████▍               | 9.3 MB 1.9 MB/s eta 0:00:05\n",
      "\u001b[?25hRequirement already satisfied: numpy in /home/arvindn/anaconda3/envs/ee/lib/python3.7/site-packages (from rasterio) (1.18.4)\n",
      "Collecting click-plugins\n",
      "  Downloading click_plugins-1.1.1-py2.py3-none-any.whl (7.5 kB)\n",
      "Collecting affine\n",
      "  Downloading affine-2.3.0-py2.py3-none-any.whl (15 kB)\n",
      "Collecting cligj>=0.5\n",
      "  Downloading cligj-0.5.0-py3-none-any.whl (5.7 kB)\n",
      "Collecting snuggs>=1.4.1\n",
      "  Downloading snuggs-1.4.7-py3-none-any.whl (5.4 kB)\n",
      "Requirement already satisfied: attrs in /home/arvindn/anaconda3/envs/ee/lib/python3.7/site-packages (from rasterio) (19.3.0)\n",
      "Collecting click<8,>=4.0\n",
      "  Downloading click-7.1.2-py2.py3-none-any.whl (82 kB)\n",
      "\u001b[K     |████████████████████████████████| 82 kB 328 kB/s eta 0:00:01\n",
      "\u001b[?25hRequirement already satisfied: pyparsing>=2.1.6 in /home/arvindn/anaconda3/envs/ee/lib/python3.7/site-packages (from snuggs>=1.4.1->rasterio) (2.4.7)\n",
      "Installing collected packages: click, click-plugins, affine, cligj, snuggs, rasterio\n",
      "Successfully installed affine-2.3.0 click-7.1.2 click-plugins-1.1.1 cligj-0.5.0 rasterio-1.1.5 snuggs-1.4.7\n"
     ]
    }
   ],
   "source": [
    "!pip install rasterio"
   ]
  },
  {
   "cell_type": "code",
   "execution_count": 167,
   "metadata": {},
   "outputs": [],
   "source": [
    "import skimage\n",
    "from skimage import io"
   ]
  },
  {
   "cell_type": "code",
   "execution_count": 187,
   "metadata": {},
   "outputs": [
    {
     "data": {
      "text/plain": [
       "'UTM'"
      ]
     },
     "execution_count": 187,
     "metadata": {},
     "output_type": "execute_result"
    }
   ],
   "source": [
    "inputimg.get('MAP_PROJECTION').getInfo()"
   ]
  },
  {
   "cell_type": "code",
   "execution_count": 188,
   "metadata": {},
   "outputs": [
    {
     "data": {
      "text/plain": [
       "['RADIANCE_MULT_BAND_5',\n",
       " 'RADIANCE_MULT_BAND_6',\n",
       " 'RADIANCE_MULT_BAND_3',\n",
       " 'RADIANCE_MULT_BAND_4',\n",
       " 'RADIANCE_MULT_BAND_1',\n",
       " 'RADIANCE_MULT_BAND_2',\n",
       " 'system:id',\n",
       " 'K2_CONSTANT_BAND_11',\n",
       " 'K2_CONSTANT_BAND_10',\n",
       " 'system:footprint',\n",
       " 'REFLECTIVE_SAMPLES',\n",
       " 'SUN_AZIMUTH',\n",
       " 'CPF_NAME',\n",
       " 'DATE_ACQUIRED',\n",
       " 'ELLIPSOID',\n",
       " 'google:registration_offset_x',\n",
       " 'google:registration_offset_y',\n",
       " 'STATION_ID',\n",
       " 'RESAMPLING_OPTION',\n",
       " 'ORIENTATION',\n",
       " 'WRS_ROW',\n",
       " 'RADIANCE_MULT_BAND_9',\n",
       " 'TARGET_WRS_ROW',\n",
       " 'RADIANCE_MULT_BAND_7',\n",
       " 'RADIANCE_MULT_BAND_8',\n",
       " 'IMAGE_QUALITY_TIRS',\n",
       " 'TRUNCATION_OLI',\n",
       " 'CLOUD_COVER',\n",
       " 'GEOMETRIC_RMSE_VERIFY',\n",
       " 'COLLECTION_CATEGORY',\n",
       " 'GRID_CELL_SIZE_REFLECTIVE',\n",
       " 'CLOUD_COVER_LAND',\n",
       " 'GEOMETRIC_RMSE_MODEL',\n",
       " 'COLLECTION_NUMBER',\n",
       " 'IMAGE_QUALITY_OLI',\n",
       " 'LANDSAT_SCENE_ID',\n",
       " 'WRS_PATH',\n",
       " 'google:registration_count',\n",
       " 'PANCHROMATIC_SAMPLES',\n",
       " 'PANCHROMATIC_LINES',\n",
       " 'GEOMETRIC_RMSE_MODEL_Y',\n",
       " 'REFLECTIVE_LINES',\n",
       " 'TIRS_STRAY_LIGHT_CORRECTION_SOURCE',\n",
       " 'GEOMETRIC_RMSE_MODEL_X',\n",
       " 'system:asset_size',\n",
       " 'system:index',\n",
       " 'REFLECTANCE_ADD_BAND_1',\n",
       " 'REFLECTANCE_ADD_BAND_2',\n",
       " 'DATUM',\n",
       " 'REFLECTANCE_ADD_BAND_3',\n",
       " 'REFLECTANCE_ADD_BAND_4',\n",
       " 'RLUT_FILE_NAME',\n",
       " 'REFLECTANCE_ADD_BAND_5',\n",
       " 'REFLECTANCE_ADD_BAND_6',\n",
       " 'REFLECTANCE_ADD_BAND_7',\n",
       " 'REFLECTANCE_ADD_BAND_8',\n",
       " 'BPF_NAME_TIRS',\n",
       " 'system:version',\n",
       " 'GROUND_CONTROL_POINTS_VERSION',\n",
       " 'DATA_TYPE',\n",
       " 'UTM_ZONE',\n",
       " 'LANDSAT_PRODUCT_ID',\n",
       " 'REFLECTANCE_ADD_BAND_9',\n",
       " 'google:registration_ratio',\n",
       " 'GRID_CELL_SIZE_PANCHROMATIC',\n",
       " 'RADIANCE_ADD_BAND_4',\n",
       " 'REFLECTANCE_MULT_BAND_7',\n",
       " 'system:time_start',\n",
       " 'RADIANCE_ADD_BAND_5',\n",
       " 'REFLECTANCE_MULT_BAND_6',\n",
       " 'RADIANCE_ADD_BAND_6',\n",
       " 'REFLECTANCE_MULT_BAND_9',\n",
       " 'PROCESSING_SOFTWARE_VERSION',\n",
       " 'RADIANCE_ADD_BAND_7',\n",
       " 'REFLECTANCE_MULT_BAND_8',\n",
       " 'RADIANCE_ADD_BAND_1',\n",
       " 'RADIANCE_ADD_BAND_2',\n",
       " 'RADIANCE_ADD_BAND_3',\n",
       " 'REFLECTANCE_MULT_BAND_1',\n",
       " 'RADIANCE_ADD_BAND_8',\n",
       " 'REFLECTANCE_MULT_BAND_3',\n",
       " 'RADIANCE_ADD_BAND_9',\n",
       " 'REFLECTANCE_MULT_BAND_2',\n",
       " 'REFLECTANCE_MULT_BAND_5',\n",
       " 'REFLECTANCE_MULT_BAND_4',\n",
       " 'THERMAL_LINES',\n",
       " 'TIRS_SSM_POSITION_STATUS',\n",
       " 'GRID_CELL_SIZE_THERMAL',\n",
       " 'NADIR_OFFNADIR',\n",
       " 'RADIANCE_ADD_BAND_11',\n",
       " 'REQUEST_ID',\n",
       " 'EARTH_SUN_DISTANCE',\n",
       " 'TIRS_SSM_MODEL',\n",
       " 'FILE_DATE',\n",
       " 'SCENE_CENTER_TIME',\n",
       " 'SUN_ELEVATION',\n",
       " 'BPF_NAME_OLI',\n",
       " 'RADIANCE_ADD_BAND_10',\n",
       " 'ROLL_ANGLE',\n",
       " 'K1_CONSTANT_BAND_10',\n",
       " 'SATURATION_BAND_1',\n",
       " 'SATURATION_BAND_2',\n",
       " 'SATURATION_BAND_3',\n",
       " 'SATURATION_BAND_4',\n",
       " 'SATURATION_BAND_5',\n",
       " 'MAP_PROJECTION',\n",
       " 'SATURATION_BAND_6',\n",
       " 'SENSOR_ID',\n",
       " 'SATURATION_BAND_7',\n",
       " 'K1_CONSTANT_BAND_11',\n",
       " 'SATURATION_BAND_8',\n",
       " 'SATURATION_BAND_9',\n",
       " 'TARGET_WRS_PATH',\n",
       " 'RADIANCE_MULT_BAND_11',\n",
       " 'RADIANCE_MULT_BAND_10',\n",
       " 'GROUND_CONTROL_POINTS_MODEL',\n",
       " 'SPACECRAFT_ID',\n",
       " 'ELEVATION_SOURCE',\n",
       " 'THERMAL_SAMPLES',\n",
       " 'GROUND_CONTROL_POINTS_VERIFY',\n",
       " 'system:bands',\n",
       " 'system:band_names']"
      ]
     },
     "execution_count": 188,
     "metadata": {},
     "output_type": "execute_result"
    }
   ],
   "source": [
    "inputimg.propertyNames().getInfo()"
   ]
  },
  {
   "cell_type": "code",
   "execution_count": 270,
   "metadata": {},
   "outputs": [
    {
     "data": {
      "text/plain": [
       "'EPSG:32644'"
      ]
     },
     "execution_count": 270,
     "metadata": {},
     "output_type": "execute_result"
    }
   ],
   "source": [
    "inputimg.select(['B1']).projection().getInfo()['crs']"
   ]
  },
  {
   "cell_type": "code",
   "execution_count": 202,
   "metadata": {},
   "outputs": [
    {
     "data": {
      "text/html": [
       "<img src=\"https://earthengine.googleapis.com/v1alpha/projects/earthengine-legacy/thumbnails/08db31de08d9e2b11954f037c571c500-7fe58a803867701da072ff3e1d28a019:getPixels\"/>"
      ],
      "text/plain": [
       "<IPython.core.display.Image object>"
      ]
     },
     "execution_count": 202,
     "metadata": {},
     "output_type": "execute_result"
    }
   ],
   "source": [
    "parameters = {'min': 0,\n",
    "              'max': 2,\n",
    "              'dimensions': 600,\n",
    "            'palette': ['white', 'blue', 'green']}\n",
    "Image(url = result.select(['cluster']).clip(roisite).getThumbUrl(parameters))"
   ]
  },
  {
   "cell_type": "code",
   "execution_count": 211,
   "metadata": {},
   "outputs": [
    {
     "data": {
      "text/html": [
       "<img src=\"https://earthengine.googleapis.com/v1alpha/projects/earthengine-legacy/thumbnails/a2da955eb641be1018e8c88891f0e276-6e232598bc363b193e8fdb3d3eb915ad:getPixels\"/>"
      ],
      "text/plain": [
       "<IPython.core.display.Image object>"
      ]
     },
     "execution_count": 211,
     "metadata": {},
     "output_type": "execute_result"
    }
   ],
   "source": [
    "parameters = {'min': 0,\n",
    "              'max': 1,\n",
    "              'dimensions': 600,\n",
    "            'palette': ['white', 'blue']}\n",
    "Image(url = waterRegion.select(['ndwi']).clip(roisite).getThumbUrl(parameters))"
   ]
  },
  {
   "cell_type": "code",
   "execution_count": 212,
   "metadata": {},
   "outputs": [
    {
     "data": {
      "text/html": [
       "<img src=\"https://earthengine.googleapis.com/v1alpha/projects/earthengine-legacy/thumbnails/fadd4fe195a215926b622be7ad8c0cde-79e36857ed038d6ff0be0f9a14b23aba:getPixels\"/>"
      ],
      "text/plain": [
       "<IPython.core.display.Image object>"
      ]
     },
     "execution_count": 212,
     "metadata": {},
     "output_type": "execute_result"
    }
   ],
   "source": [
    "parameters = {'min': -1,\n",
    "              'max': 1,\n",
    "              'dimensions': 600,\n",
    "            'palette': ['black','white', 'green']}\n",
    "Image(url = greenRegion.select(['ndvi']).clip(roisite).getThumbUrl(parameters))"
   ]
  },
  {
   "cell_type": "code",
   "execution_count": 222,
   "metadata": {},
   "outputs": [
    {
     "data": {
      "text/html": [
       "<img src=\"https://earthengine.googleapis.com/v1alpha/projects/earthengine-legacy/thumbnails/bc6e357188289f12d3419b342fbc2226-2c0497e515cb1c69abdc3d06c3cbc2a9:getPixels\"/>"
      ],
      "text/plain": [
       "<IPython.core.display.Image object>"
      ]
     },
     "execution_count": 222,
     "metadata": {},
     "output_type": "execute_result"
    }
   ],
   "source": [
    "jsonfilepath = '/home/arvindn/Research/TopicsOfInterest/Agriculture/Notes/AlmostCircleAroundHyderabad.json'\n",
    "with open(jsonfilepath) as f:\n",
    "    data = geojson.load(f)\n",
    "\n",
    "coords = np.array(data['features'][0]['geometry']['coordinates'][0])[:,0:2].tolist()\n",
    "\n",
    "eeGeom = ee.Geometry.Polygon(coords)\n",
    "\n",
    "eeFeat = ee.Feature(eeGeom)\n",
    "\n",
    "parameters = {'min': 0,\n",
    "              'max': 1,\n",
    "              'dimensions': 600,\n",
    "            'palette': ['white', 'blue']}\n",
    "Image(url = waterRegion.select(['ndwi']).clip(eeGeom).getThumbUrl(parameters))"
   ]
  },
  {
   "cell_type": "code",
   "execution_count": 234,
   "metadata": {},
   "outputs": [],
   "source": [
    "import openstreetmap"
   ]
  },
  {
   "cell_type": "code",
   "execution_count": 238,
   "metadata": {},
   "outputs": [
    {
     "ename": "ImportError",
     "evalue": "cannot import name 'Crawler' from 'openstreetmap' (unknown location)",
     "output_type": "error",
     "traceback": [
      "\u001b[0;31m---------------------------------------------------------------------------\u001b[0m",
      "\u001b[0;31mImportError\u001b[0m                               Traceback (most recent call last)",
      "\u001b[0;32m<ipython-input-238-f2112bdd0f94>\u001b[0m in \u001b[0;36m<module>\u001b[0;34m\u001b[0m\n\u001b[0;32m----> 1\u001b[0;31m \u001b[0;32mfrom\u001b[0m \u001b[0mopenstreetmap\u001b[0m \u001b[0;32mimport\u001b[0m \u001b[0mCrawler\u001b[0m\u001b[0;34m\u001b[0m\u001b[0;34m\u001b[0m\u001b[0m\n\u001b[0m\u001b[1;32m      2\u001b[0m \u001b[0mc\u001b[0m \u001b[0;34m=\u001b[0m \u001b[0mCrawler\u001b[0m\u001b[0;34m(\u001b[0m\u001b[0;34m)\u001b[0m\u001b[0;34m\u001b[0m\u001b[0;34m\u001b[0m\u001b[0m\n\u001b[1;32m      3\u001b[0m \u001b[0mboundary\u001b[0m \u001b[0;34m=\u001b[0m \u001b[0mc\u001b[0m\u001b[0;34m.\u001b[0m\u001b[0mname_parse\u001b[0m\u001b[0;34m(\u001b[0m\u001b[0;34m'Hyderabad'\u001b[0m\u001b[0;34m,\u001b[0m \u001b[0mlevel\u001b[0m\u001b[0;34m=\u001b[0m\u001b[0;34m'city'\u001b[0m\u001b[0;34m,\u001b[0m\u001b[0mcoo_order\u001b[0m\u001b[0;34m=\u001b[0m\u001b[0;32mTrue\u001b[0m\u001b[0;34m)\u001b[0m\u001b[0;34m\u001b[0m\u001b[0;34m\u001b[0m\u001b[0m\n\u001b[1;32m      4\u001b[0m \u001b[0;31m# level: country state city county town\u001b[0m\u001b[0;34m\u001b[0m\u001b[0;34m\u001b[0m\u001b[0;34m\u001b[0m\u001b[0m\n\u001b[1;32m      5\u001b[0m \u001b[0;31m# coo_order  :False ->lng,lat ; True -> lat,lng  coo_order;\u001b[0m\u001b[0;34m\u001b[0m\u001b[0;34m\u001b[0m\u001b[0;34m\u001b[0m\u001b[0m\n",
      "\u001b[0;31mImportError\u001b[0m: cannot import name 'Crawler' from 'openstreetmap' (unknown location)"
     ]
    }
   ],
   "source": [
    "from openstreetmap import Crawler\n",
    "c = Crawler()\n",
    "boundary = c.name_parse('Hyderabad', level='city',coo_order=True)\n",
    "# level: country state city county town\n",
    "# coo_order  :False ->lng,lat ; True -> lat,lng  coo_order;\n",
    "print(boundary.info)\n",
    "boundary = c.id_parse(\"2458199\", csys='wgs84', coo_order=True)\n",
    "# csys(Coordinate System): wgs84 gcj02 bd09\n",
    "print(boundary.info)"
   ]
  },
  {
   "cell_type": "code",
   "execution_count": 252,
   "metadata": {},
   "outputs": [
    {
     "data": {
      "text/plain": [
       "(554934.3850048161, 567962.5804682304, 4187387.8146945997, 4196109.8448516065)"
      ]
     },
     "execution_count": 252,
     "metadata": {},
     "output_type": "execute_result"
    },
    {
     "data": {
      "image/png": "[encoded data removed]",
      "text/plain": [
       "<Figure size 432x288 with 1 Axes>"
      ]
     },
     "metadata": {
      "needs_background": "light"
     },
     "output_type": "display_data"
    }
   ],
   "source": [
    "import osmnx as ox\n",
    "city = ox.geocode_to_gdf('Berkeley, California')\n",
    "ax = ox.project_gdf(city).plot()\n",
    "ax.axis('off')"
   ]
  },
  {
   "cell_type": "code",
   "execution_count": 256,
   "metadata": {},
   "outputs": [
    {
     "data": {
      "text/plain": [
       "(-42856.26054304761, 453152.6011296198, 864174.701404518, 1529714.76672013)"
      ]
     },
     "execution_count": 256,
     "metadata": {},
     "output_type": "execute_result"
    },
    {
     "data": {
      "image/png": "[encoded data removed]",
      "text/plain": [
       "<Figure size 432x288 with 1 Axes>"
      ]
     },
     "metadata": {
      "needs_background": "light"
     },
     "output_type": "display_data"
    }
   ],
   "source": [
    "state = ox.geocode_to_gdf('Tamil Nadu, India')\n",
    "ax1 = ox.project_gdf(state).plot()\n",
    "ax1.axis('off')"
   ]
  },
  {
   "cell_type": "code",
   "execution_count": 258,
   "metadata": {},
   "outputs": [
    {
     "data": {
      "text/plain": [
       "(579920.6603684197, 592751.4050458955, 4503033.8907299135, 4527153.442921117)"
      ]
     },
     "execution_count": 258,
     "metadata": {},
     "output_type": "execute_result"
    },
    {
     "data": {
      "image/png": "[encoded data removed]",
      "text/plain": [
       "<Figure size 432x288 with 1 Axes>"
      ]
     },
     "metadata": {
      "needs_background": "light"
     },
     "output_type": "display_data"
    }
   ],
   "source": [
    "cityManhattan = ox.geocode_to_gdf('Manhattan, New York')\n",
    "ax = ox.project_gdf(cityManhattan).plot()\n",
    "ax.axis('off')"
   ]
  },
  {
   "cell_type": "code",
   "execution_count": 261,
   "metadata": {},
   "outputs": [
    {
     "name": "stderr",
     "output_type": "stream",
     "text": [
      "/home/arvindn/anaconda3/envs/ee/lib/python3.7/site-packages/ipykernel_launcher.py:1: UserWarning: Geometry is in a geographic CRS. Results from 'area' are likely incorrect. Use 'GeoSeries.to_crs()' to re-project geometries to a projected CRS before this operation.\n",
      "\n",
      "  \"\"\"Entry point for launching an IPython kernel.\n"
     ]
    },
    {
     "data": {
      "text/plain": [
       "0    0.006415\n",
       "dtype: float64"
      ]
     },
     "execution_count": 261,
     "metadata": {},
     "output_type": "execute_result"
    }
   ],
   "source": [
    "cityManhattan"
   ]
  },
  {
   "cell_type": "code",
   "execution_count": 268,
   "metadata": {},
   "outputs": [
    {
     "data": {
      "text/plain": [
       "'https://earthengine.googleapis.com/v1alpha/projects/earthengine-legacy/thumbnails/bc6e357188289f12d3419b342fbc2226-c09eb313ca30c14ddc139ef29d24b467:getPixels'"
      ]
     },
     "execution_count": 268,
     "metadata": {},
     "output_type": "execute_result"
    }
   ],
   "source": [
    "jsonfilepath = '/home/arvindn/Research/TopicsOfInterest/Agriculture/Notes/AlmostCircleAroundHyderabad.json'\n",
    "with open(jsonfilepath) as f:\n",
    "    data = geojson.load(f)\n",
    "\n",
    "coords = np.array(data['features'][0]['geometry']['coordinates'][0])[:,0:2].tolist()\n",
    "\n",
    "eeGeom = ee.Geometry.Polygon(coords)\n",
    "\n",
    "eeFeat = ee.Feature(eeGeom)\n",
    "\n",
    "parameters = {'min': 0,\n",
    "              'max': 1,\n",
    "              'dimensions': 600,\n",
    "            'palette': ['white', 'blue']}\n",
    "waterRegion.select(['ndwi']).clip(eeGeom).getThumbURL(parameters)"
   ]
  },
  {
   "cell_type": "code",
   "execution_count": 271,
   "metadata": {},
   "outputs": [
    {
     "data": {
      "text/plain": [
       "'https://earthengine.googleapis.com/v1alpha/projects/earthengine-legacy/thumbnails/33d959e940d64a438f90d2512be14f83-cb829e233eb1d6b97161098cd1286311:getPixels'"
      ]
     },
     "execution_count": 271,
     "metadata": {},
     "output_type": "execute_result"
    }
   ],
   "source": [
    "parameters = {'min': 0,\n",
    "              'max': 1,\n",
    "              'scale': 30,\n",
    "            'palette': ['white', 'blue'],\n",
    "             'crs': inputimg.select(['B1']).projection().getInfo()['crs']}\n",
    "waterRegion.select(['ndwi']).clip(eeGeom).getDownloadURL(parameters)"
   ]
  },
  {
   "cell_type": "code",
   "execution_count": 309,
   "metadata": {},
   "outputs": [],
   "source": [
    "import cv2 as cv2\n",
    "import numpy as np\n",
    "\n",
    "from skimage import io"
   ]
  },
  {
   "cell_type": "code",
   "execution_count": 310,
   "metadata": {},
   "outputs": [],
   "source": [
    "waterHyd = io.imread('./waterBodiesInAndAroundHyd.tif')"
   ]
  },
  {
   "cell_type": "code",
   "execution_count": 311,
   "metadata": {},
   "outputs": [
    {
     "data": {
      "text/plain": [
       "(2930, 2880)"
      ]
     },
     "execution_count": 311,
     "metadata": {},
     "output_type": "execute_result"
    }
   ],
   "source": [
    "waterHyd.shape"
   ]
  },
  {
   "cell_type": "code",
   "execution_count": 275,
   "metadata": {},
   "outputs": [
    {
     "data": {
      "text/plain": [
       "<matplotlib.image.AxesImage at 0x7fa40f1c2950>"
      ]
     },
     "execution_count": 275,
     "metadata": {},
     "output_type": "execute_result"
    },
    {
     "data": {
      "image/png": "[encoded data removed]",
      "text/plain": [
       "<Figure size 432x288 with 1 Axes>"
      ]
     },
     "metadata": {
      "needs_background": "light"
     },
     "output_type": "display_data"
    }
   ],
   "source": [
    "ret,thresh = cv2.threshold(waterHyd,75,255,0) #thresholding, this time using\n",
    "                                            #OpenCV\n",
    "\n",
    "io.imshow(thresh) #showing the image using skimage.io"
   ]
  },
  {
   "cell_type": "code",
   "execution_count": 312,
   "metadata": {},
   "outputs": [],
   "source": [
    "#Drawing contours - not sure how openCV does it.\n",
    "contours, hierarchy = cv2.findContours(thresh, \n",
    "                                       cv2.RETR_TREE, \n",
    "                                       cv2.CHAIN_APPROX_SIMPLE)"
   ]
  },
  {
   "cell_type": "code",
   "execution_count": 282,
   "metadata": {
    "scrolled": false
   },
   "outputs": [
    {
     "name": "stdout",
     "output_type": "stream",
     "text": [
      "area:  48.0 centroid:  (1256, 2821) perimeter:  42.62741661071777\n",
      "area:  94.5 centroid:  (1426, 2805) perimeter:  51.55634891986847\n",
      "area:  37.5 centroid:  (1168, 2778) perimeter:  33.21320307254791\n",
      "area:  31.5 centroid:  (983, 2775) perimeter:  31.55634891986847\n",
      "area:  364.0 centroid:  (1826, 2777) perimeter:  112.08326005935669\n",
      "area:  19.5 centroid:  (1637, 2771) perimeter:  21.899494767189026\n",
      "area:  123.0 centroid:  (1238, 2772) perimeter:  54.14213538169861\n",
      "area:  32.0 centroid:  (1712, 2762) perimeter:  32.97056245803833\n",
      "area:  32.5 centroid:  (1601, 2758) perimeter:  44.041630029678345\n",
      "area:  59.5 centroid:  (1837, 2761) perimeter:  67.84061932563782\n",
      "area:  133.5 centroid:  (686, 2742) perimeter:  76.52691125869751\n",
      "area:  75.0 centroid:  (1341, 2715) perimeter:  53.79898953437805\n",
      "area:  288.0 centroid:  (1406, 2715) perimeter:  99.59797883033752\n",
      "area:  46.5 centroid:  (1064, 2702) perimeter:  47.21320307254791\n",
      "area:  52.0 centroid:  (1799, 2700) perimeter:  40.627416253089905\n",
      "area:  36.0 centroid:  (1638, 2685) perimeter:  38.14213538169861\n",
      "area:  17.5 centroid:  (946, 2677) perimeter:  22.727921843528748\n",
      "area:  18.5 centroid:  (603, 2671) perimeter:  32.72792184352875\n",
      "area:  24.0 centroid:  (1921, 2638) perimeter:  29.313708305358887\n",
      "area:  23.0 centroid:  (1442, 2634) perimeter:  23.313708305358887\n",
      "area:  18.5 centroid:  (1084, 2611) perimeter:  25.55634880065918\n",
      "area:  53.5 centroid:  (1644, 2609) perimeter:  34.38477599620819\n",
      "area:  28.0 centroid:  (1187, 2602) perimeter:  28.14213538169861\n",
      "area:  50.0 centroid:  (2008, 2600) perimeter:  44.97056245803833\n",
      "area:  19.0 centroid:  (1208, 2601) perimeter:  36.14213538169861\n",
      "area:  28.0 centroid:  (1999, 2599) perimeter:  39.79898953437805\n",
      "area:  31.5 centroid:  (1734, 2595) perimeter:  29.55634903907776\n",
      "area:  47.0 centroid:  (2046, 2592) perimeter:  32.97056245803833\n",
      "area:  30.5 centroid:  (944, 2569) perimeter:  26.727921843528748\n",
      "area:  74.0 centroid:  (1135, 2575) perimeter:  48.62741661071777\n",
      "area:  489.0 centroid:  (1063, 2549) perimeter:  130.3675309419632\n",
      "area:  23.0 centroid:  (1056, 2559) perimeter:  21.313708305358887\n",
      "area:  92.5 centroid:  (1275, 2534) perimeter:  53.6984840631485\n",
      "area:  32.0 centroid:  (1328, 2526) perimeter:  33.79898965358734\n",
      "area:  121.5 centroid:  (585, 2530) perimeter:  66.52691113948822\n",
      "area:  77.0 centroid:  (1977, 2511) perimeter:  46.627416491508484\n",
      "area:  18.0 centroid:  (2213, 2500) perimeter:  20.14213526248932\n",
      "area:  50.0 centroid:  (456, 2495) perimeter:  32.97056245803833\n",
      "area:  165.0 centroid:  (1757, 2497) perimeter:  75.59797894954681\n",
      "area:  157.0 centroid:  (1030, 2483) perimeter:  70.28427076339722\n",
      "area:  58.5 centroid:  (579, 2441) perimeter:  46.041630148887634\n",
      "area:  74.5 centroid:  (794, 2437) perimeter:  47.21320307254791\n",
      "area:  119.0 centroid:  (1413, 2435) perimeter:  59.455843687057495\n",
      "area:  22.0 centroid:  (2081, 2427) perimeter:  30.97056245803833\n",
      "area:  38.5 centroid:  (1003, 2416) perimeter:  29.899494767189026\n",
      "area:  410.5 centroid:  (710, 2424) perimeter:  185.58073377609253\n",
      "area:  98.5 centroid:  (2470, 2407) perimeter:  55.35533845424652\n",
      "area:  17.5 centroid:  (871, 2383) perimeter:  21.071067690849304\n",
      "area:  19.5 centroid:  (2192, 2382) perimeter:  28.3847758769989\n",
      "area:  230.0 centroid:  (1376, 2384) perimeter:  69.59797883033752\n",
      "area:  70.0 centroid:  (2455, 2378) perimeter:  96.91168737411499\n",
      "area:  19.0 centroid:  (1016, 2370) perimeter:  27.313708186149597\n",
      "area:  40.5 centroid:  (2209, 2353) perimeter:  70.18376541137695\n",
      "area:  22.5 centroid:  (921, 2320) perimeter:  23.899494767189026\n",
      "area:  1518.5 centroid:  (893, 2341) perimeter:  238.69343173503876\n",
      "area:  25.5 centroid:  (1410, 2291) perimeter:  28.384775757789612\n",
      "area:  32.0 centroid:  (1551, 2269) perimeter:  24.485281229019165\n",
      "area:  1382.5 centroid:  (2019, 2282) perimeter:  284.63455617427826\n",
      "area:  49.5 centroid:  (387, 2259) perimeter:  38.041630148887634\n",
      "area:  17.5 centroid:  (956, 2249) perimeter:  21.899494767189026\n",
      "area:  42.5 centroid:  (1042, 2219) perimeter:  36.72792184352875\n",
      "area:  30.0 centroid:  (2515, 2215) perimeter:  70.76955199241638\n",
      "area:  17.5 centroid:  (2229, 2206) perimeter:  27.55634891986847\n",
      "area:  72.0 centroid:  (1141, 2197) perimeter:  45.79898953437805\n",
      "area:  23.5 centroid:  (1560, 2191) perimeter:  28.727921843528748\n",
      "area:  106.0 centroid:  (878, 2197) perimeter:  55.11269772052765\n",
      "area:  38.0 centroid:  (2445, 2189) perimeter:  38.62741661071777\n",
      "area:  48.5 centroid:  (1583, 2188) perimeter:  48.041630029678345\n",
      "area:  87.5 centroid:  (1474, 2188) perimeter:  40.87005698680878\n",
      "area:  48.0 centroid:  (2512, 2181) perimeter:  38.97056245803833\n",
      "area:  513.0 centroid:  (376, 2187) perimeter:  146.225395321846\n",
      "area:  29.0 centroid:  (641, 2172) perimeter:  27.798989295959473\n",
      "area:  32.0 centroid:  (2236, 2164) perimeter:  36.97056221961975\n",
      "area:  117.5 centroid:  (1000, 2152) perimeter:  60.5269113779068\n",
      "area:  46.0 centroid:  (1202, 2136) perimeter:  34.14213538169861\n",
      "area:  215.5 centroid:  (2755, 2143) perimeter:  140.1248904466629\n",
      "area:  158.5 centroid:  (989, 2115) perimeter:  70.5269113779068\n",
      "area:  129.5 centroid:  (1168, 2109) perimeter:  91.49747383594513\n",
      "area:  116.5 centroid:  (1197, 2098) perimeter:  57.69848418235779\n",
      "area:  177.5 centroid:  (1008, 2079) perimeter:  85.35533833503723\n",
      "area:  39.0 centroid:  (1170, 2057) perimeter:  40.627416372299194\n",
      "area:  58.0 centroid:  (2466, 2048) perimeter:  52.97056233882904\n",
      "area:  214.5 centroid:  (2238, 2051) perimeter:  97.49747383594513\n",
      "area:  184.0 centroid:  (1164, 2049) perimeter:  68.76955199241638\n",
      "area:  18.5 centroid:  (2603, 2032) perimeter:  17.899494767189026\n",
      "area:  23.0 centroid:  (2220, 2029) perimeter:  20.485281109809875\n",
      "area:  22.0 centroid:  (2236, 2031) perimeter:  38.97056245803833\n",
      "area:  31.5 centroid:  (2348, 2024) perimeter:  23.899494647979736\n",
      "area:  38.0 centroid:  (1960, 2022) perimeter:  30.14213538169861\n",
      "area:  173.5 centroid:  (1589, 2020) perimeter:  65.35533845424652\n",
      "area:  18.5 centroid:  (2362, 2014) perimeter:  27.55634903907776\n",
      "area:  20.0 centroid:  (2736, 2010) perimeter:  27.798989415168762\n",
      "area:  60.0 centroid:  (2174, 2014) perimeter:  32.485281229019165\n",
      "area:  30.5 centroid:  (2628, 2014) perimeter:  43.6984840631485\n",
      "area:  39.0 centroid:  (2733, 1995) perimeter:  37.79898953437805\n",
      "area:  16.5 centroid:  (2615, 1993) perimeter:  31.55634891986847\n",
      "area:  98.5 centroid:  (2722, 1992) perimeter:  79.8406195640564\n",
      "area:  163.5 centroid:  (2645, 1987) perimeter:  84.32590126991272\n",
      "area:  104.5 centroid:  (2282, 1975) perimeter:  48.38477599620819\n",
      "area:  41.0 centroid:  (1567, 1946) perimeter:  37.455843687057495\n",
      "area:  38.5 centroid:  (2669, 1948) perimeter:  36.72792184352875\n",
      "area:  27.0 centroid:  (1964, 1944) perimeter:  40.62741661071777\n",
      "area:  265.5 centroid:  (1871, 1938) perimeter:  146.46803617477417\n",
      "area:  36.5 centroid:  (1854, 1921) perimeter:  53.69848430156708\n",
      "area:  94.0 centroid:  (2061, 1923) perimeter:  44.627416491508484\n",
      "area:  18.0 centroid:  (1038, 1919) perimeter:  30.97056245803833\n",
      "area:  93.5 centroid:  (1527, 1917) perimeter:  60.52691113948822\n",
      "area:  510.5 centroid:  (1417, 1930) perimeter:  185.78174448013306\n",
      "area:  24.0 centroid:  (2345, 1911) perimeter:  27.313708305358887\n",
      "area:  114.5 centroid:  (2657, 1914) perimeter:  99.15432798862457\n",
      "area:  51.0 centroid:  (2334, 1903) perimeter:  34.97056245803833\n",
      "area:  22.5 centroid:  (1480, 1901) perimeter:  34.38477599620819\n",
      "area:  81.5 centroid:  (1561, 1892) perimeter:  43.55634891986847\n",
      "area:  255.5 centroid:  (2322, 1895) perimeter:  81.01219248771667\n",
      "area:  42.0 centroid:  (1370, 1888) perimeter:  30.97056245803833\n",
      "area:  72.0 centroid:  (1926, 1886) perimeter:  49.455843687057495\n",
      "area:  413.0 centroid:  (1415, 1894) perimeter:  143.5391036272049\n",
      "area:  18.5 centroid:  (2707, 1877) perimeter:  41.55634891986847\n",
      "area:  17.0 centroid:  (2632, 1878) perimeter:  39.455843687057495\n",
      "area:  28.5 centroid:  (1705, 1872) perimeter:  21.899494647979736\n",
      "area:  101.5 centroid:  (2250, 1875) perimeter:  44.041630029678345\n",
      "area:  19.0 centroid:  (1146, 1873) perimeter:  34.14213538169861\n",
      "area:  208.5 centroid:  (1259, 1867) perimeter:  87.8406195640564\n",
      "area:  68.0 centroid:  (2051, 1861) perimeter:  53.455843567848206\n",
      "area:  107.0 centroid:  (2300, 1861) perimeter:  57.455843687057495\n",
      "area:  20.0 centroid:  (1719, 1856) perimeter:  19.313708305358887\n",
      "area:  47.0 centroid:  (1474, 1846) perimeter:  35.31370806694031\n",
      "area:  29.0 centroid:  (1820, 1839) perimeter:  26.485281229019165\n",
      "area:  106.5 centroid:  (1675, 1834) perimeter:  66.5269113779068\n",
      "area:  20.0 centroid:  (2412, 1826) perimeter:  26.14213538169861\n",
      "area:  45.0 centroid:  (1315, 1828) perimeter:  28.97056245803833\n",
      "area:  84.5 centroid:  (2227, 1826) perimeter:  47.21320307254791\n",
      "area:  55.5 centroid:  (1535, 1823) perimeter:  40.38477599620819\n",
      "area:  61.5 centroid:  (1930, 1821) perimeter:  41.55634891986847\n",
      "area:  57.0 centroid:  (2735, 1814) perimeter:  64.28427076339722\n",
      "area:  17.0 centroid:  (1915, 1807) perimeter:  20.485281229019165\n",
      "area:  54.0 centroid:  (1650, 1802) perimeter:  34.97056245803833\n",
      "area:  39.5 centroid:  (1307, 1801) perimeter:  29.55634891986847\n",
      "area:  43.0 centroid:  (2620, 1792) perimeter:  32.97056245803833\n",
      "area:  39.5 centroid:  (2774, 1785) perimeter:  33.55634891986847\n",
      "area:  87.0 centroid:  (2738, 1786) perimeter:  82.9116872549057\n",
      "area:  50.5 centroid:  (2832, 1786) perimeter:  58.041630148887634\n",
      "area:  17.5 centroid:  (2802, 1778) perimeter:  23.071067690849304\n",
      "area:  70.5 centroid:  (2546, 1776) perimeter:  78.66904664039612\n",
      "area:  23.0 centroid:  (2803, 1765) perimeter:  40.62741661071777\n",
      "area:  18.0 centroid:  (2538, 1759) perimeter:  27.313708305358887\n",
      "area:  60.5 centroid:  (2732, 1752) perimeter:  53.6984840631485\n",
      "area:  32.0 centroid:  (2743, 1750) perimeter:  37.79898953437805\n",
      "area:  170.5 centroid:  (2838, 1761) perimeter:  234.69343185424805\n",
      "area:  94.0 centroid:  (2524, 1749) perimeter:  46.627416491508484\n",
      "area:  19.0 centroid:  (2538, 1738) perimeter:  28.14213538169861\n",
      "area:  40.0 centroid:  (2548, 1739) perimeter:  48.62741661071777\n",
      "area:  17.0 centroid:  (2519, 1732) perimeter:  22.485281229019165\n",
      "area:  95.0 centroid:  (2852, 1741) perimeter:  83.25483322143555\n",
      "area:  38.5 centroid:  (2631, 1731) perimeter:  46.041630148887634\n",
      "area:  35.5 centroid:  (2169, 1730) perimeter:  40.3847758769989\n",
      "area:  160.5 centroid:  (2732, 1733) perimeter:  153.09545254707336\n",
      "area:  11267.5 centroid:  (1060, 1823) perimeter:  1134.3544603586197\n",
      "area:  24.0 centroid:  (1030, 1898) perimeter:  20.14213538169861\n",
      "area:  151.0 centroid:  (2110, 1729) perimeter:  67.94112467765808\n",
      "area:  146.5 centroid:  (1997, 1718) perimeter:  58.52691125869751\n",
      "area:  342.0 centroid:  (2771, 1721) perimeter:  241.27921783924103\n",
      "area:  31.0 centroid:  (2619, 1714) perimeter:  40.62741661071777\n",
      "area:  33.5 centroid:  (2741, 1711) perimeter:  35.21320283412933\n",
      "area:  316.0 centroid:  (2226, 1723) perimeter:  174.02438497543335\n",
      "area:  42.0 centroid:  (2585, 1709) perimeter:  45.79898941516876\n",
      "area:  57.0 centroid:  (2187, 1709) perimeter:  36.97056245803833\n",
      "area:  34.5 centroid:  (2829, 1708) perimeter:  40.041629910469055\n",
      "area:  168.5 centroid:  (2808, 1712) perimeter:  94.66904640197754\n",
      "area:  67.0 centroid:  (2457, 1710) perimeter:  49.455843687057495\n",
      "area:  21.0 centroid:  (2231, 1704) perimeter:  26.485281229019165\n",
      "area:  25.5 centroid:  (1374, 1704) perimeter:  27.899494767189026\n",
      "area:  28.5 centroid:  (2465, 1701) perimeter:  39.55634891986847\n",
      "area:  976.5 centroid:  (1365, 1721) perimeter:  218.20815014839172\n",
      "area:  39.5 centroid:  (1350, 1710) perimeter:  23.55634868144989\n",
      "area:  25.0 centroid:  (2586, 1698) perimeter:  34.97056245803833\n",
      "area:  51.5 centroid:  (2794, 1694) perimeter:  48.041630029678345\n",
      "area:  37.5 centroid:  (2812, 1696) perimeter:  40.38477599620819\n",
      "area:  287.5 centroid:  (2769, 1698) perimeter:  146.6101714372635\n",
      "area:  21.5 centroid:  (2765, 1691) perimeter:  21.55634891986847\n",
      "area:  17.0 centroid:  (850, 1691) perimeter:  21.313708305358887\n",
      "area:  19.5 centroid:  (2473, 1689) perimeter:  27.55634891986847\n",
      "area:  278.0 centroid:  (2108, 1694) perimeter:  119.74011421203613\n",
      "area:  727.0 centroid:  (2722, 1700) perimeter:  227.27921843528748\n",
      "area:  18.5 centroid:  (2585, 1680) perimeter:  22.727921843528748\n",
      "area:  77.0 centroid:  (2219, 1684) perimeter:  52.28427052497864\n",
      "area:  32.0 centroid:  (1117, 1679) perimeter:  35.79898953437805\n",
      "area:  16.5 centroid:  (2777, 1678) perimeter:  21.899494767189026\n",
      "area:  344.0 centroid:  (1670, 1687) perimeter:  105.25483334064484\n",
      "area:  19.5 centroid:  (1259, 1677) perimeter:  18.242640614509583\n",
      "area:  19.0 centroid:  (2818, 1673) perimeter:  22.485281229019165\n",
      "area:  17.5 centroid:  (2225, 1672) perimeter:  17.899494647979736\n",
      "area:  596.0 centroid:  (2690, 1681) perimeter:  225.62236392498016\n",
      "area:  36.0 centroid:  (2693, 1690) perimeter:  25.313708305358887\n",
      "area:  23.5 centroid:  (2687, 1674) perimeter:  19.899494767189026\n",
      "area:  19.5 centroid:  (2695, 1673) perimeter:  18.727921843528748\n",
      "area:  295.0 centroid:  (2433, 1674) perimeter:  115.05382263660431\n",
      "area:  108.0 centroid:  (2625, 1671) perimeter:  157.68123936653137\n",
      "area:  42.0 centroid:  (2526, 1665) perimeter:  40.62741661071777\n",
      "area:  19.5 centroid:  (2293, 1665) perimeter:  23.899494767189026\n",
      "area:  45.5 centroid:  (2603, 1662) perimeter:  50.041630148887634\n",
      "area:  24.5 centroid:  (2620, 1659) perimeter:  29.55634891986847\n",
      "area:  45.5 centroid:  (2857, 1660) perimeter:  50.041630148887634\n",
      "area:  247.5 centroid:  (2446, 1660) perimeter:  132.95331740379333\n",
      "area:  47.5 centroid:  (2687, 1654) perimeter:  63.35533833503723\n",
      "area:  38.0 centroid:  (2387, 1652) perimeter:  40.62741661071777\n",
      "area:  27.5 centroid:  (2615, 1650) perimeter:  42.041630148887634\n",
      "area:  44.0 centroid:  (2587, 1647) perimeter:  42.62741661071777\n",
      "area:  69.0 centroid:  (1813, 1650) perimeter:  59.11269772052765\n",
      "area:  61.0 centroid:  (2717, 1650) perimeter:  108.71067667007446\n",
      "area:  150.0 centroid:  (2472, 1651) perimeter:  94.08326017856598\n",
      "area:  17.0 centroid:  (2685, 1642) perimeter:  17.313708186149597\n",
      "area:  36.5 centroid:  (2543, 1646) perimeter:  46.870057225227356\n",
      "area:  27.0 centroid:  (2679, 1646) perimeter:  49.94112479686737\n",
      "area:  59.5 centroid:  (2401, 1647) perimeter:  78.5269113779068\n",
      "area:  34.5 centroid:  (2520, 1642) perimeter:  39.21320295333862\n",
      "area:  27.5 centroid:  (1029, 1640) perimeter:  26.727921843528748\n",
      "area:  45.5 centroid:  (2863, 1637) perimeter:  28.727921843528748\n",
      "area:  2673.5 centroid:  (2642, 1688) perimeter:  1173.8103045225143\n",
      "area:  36.0 centroid:  (2642, 1707) perimeter:  34.62741661071777\n",
      "area:  64.0 centroid:  (2611, 1703) perimeter:  36.62741661071777\n",
      "area:  55.0 centroid:  (2634, 1702) perimeter:  32.97056245803833\n",
      "area:  85.5 centroid:  (2648, 1691) perimeter:  47.69848418235779\n",
      "area:  61.5 centroid:  (2646, 1683) perimeter:  53.35533833503723\n",
      "area:  29.5 centroid:  (2434, 1633) perimeter:  36.38477599620819\n",
      "area:  26.0 centroid:  (2422, 1634) perimeter:  34.97056245803833\n",
      "area:  17.0 centroid:  (2556, 1633) perimeter:  26.14213538169861\n",
      "area:  71.5 centroid:  (2830, 1634) perimeter:  67.35533833503723\n",
      "area:  61.0 centroid:  (2614, 1634) perimeter:  45.11269772052765\n",
      "area:  1840.0 centroid:  (2821, 1668) perimeter:  790.7493419647217\n",
      "area:  41.5 centroid:  (2841, 1698) perimeter:  30.38477599620819\n",
      "area:  22.5 centroid:  (2837, 1686) perimeter:  21.55634880065918\n",
      "area:  41.5 centroid:  (2845, 1677) perimeter:  28.38477599620819\n",
      "area:  18.0 centroid:  (2806, 1666) perimeter:  16.485281229019165\n",
      "area:  19.5 centroid:  (2840, 1667) perimeter:  20.727921843528748\n",
      "area:  220.5 centroid:  (2810, 1654) perimeter:  110.46803593635559\n",
      "area:  32.0 centroid:  (2503, 1629) perimeter:  29.313708305358887\n",
      "area:  145.5 centroid:  (2478, 1632) perimeter:  82.5269113779068\n",
      "area:  25.5 centroid:  (2854, 1627) perimeter:  32.3847758769989\n",
      "area:  93.0 centroid:  (2695, 1629) perimeter:  131.88224971294403\n",
      "area:  64.0 centroid:  (2713, 1626) perimeter:  62.76955187320709\n",
      "area:  24.5 centroid:  (2562, 1625) perimeter:  44.38477599620819\n",
      "area:  29.5 centroid:  (2430, 1623) perimeter:  26.727921843528748\n",
      "area:  63.5 centroid:  (2587, 1625) perimeter:  53.69848430156708\n",
      "area:  28.5 centroid:  (2569, 1621) perimeter:  36.38477599620819\n",
      "area:  32.5 centroid:  (2493, 1623) perimeter:  42.041629910469055\n",
      "area:  22.5 centroid:  (2702, 1619) perimeter:  21.55634891986847\n",
      "area:  1054.0 centroid:  (2759, 1658) perimeter:  601.6122592687607\n",
      "area:  23.0 centroid:  (2765, 1662) perimeter:  18.485281229019165\n",
      "area:  57.0 centroid:  (2758, 1660) perimeter:  41.79898953437805\n",
      "area:  42.0 centroid:  (2844, 1618) perimeter:  42.14213538169861\n",
      "area:  23.5 centroid:  (1867, 1619) perimeter:  27.071067690849304\n",
      "area:  37.0 centroid:  (1055, 1619) perimeter:  27.313708305358887\n",
      "area:  24.0 centroid:  (2607, 1616) perimeter:  35.79898953437805\n",
      "area:  19.0 centroid:  (2588, 1614) perimeter:  28.14213538169861\n",
      "area:  151.5 centroid:  (2512, 1615) perimeter:  74.18376541137695\n",
      "area:  22.0 centroid:  (2549, 1613) perimeter:  32.97056245803833\n",
      "area:  25.0 centroid:  (2381, 1611) perimeter:  30.14213538169861\n",
      "area:  31.0 centroid:  (1974, 1613) perimeter:  32.97056233882904\n",
      "area:  259.5 centroid:  (2638, 1621) perimeter:  133.78174436092377\n",
      "area:  65.0 centroid:  (2634, 1620) perimeter:  40.62741661071777\n",
      "area:  330.5 centroid:  (2821, 1622) perimeter:  157.78174436092377\n",
      "area:  38.5 centroid:  (2702, 1609) perimeter:  68.52691125869751\n",
      "area:  27.5 centroid:  (2605, 1606) perimeter:  45.21320307254791\n",
      "area:  34.0 centroid:  (2652, 1612) perimeter:  65.5979790687561\n",
      "area:  50.5 centroid:  (2836, 1602) perimeter:  42.041630029678345\n",
      "area:  248.5 centroid:  (2792, 1611) perimeter:  194.89444208145142\n",
      "area:  22.0 centroid:  (2793, 1614) perimeter:  22.14213538169861\n",
      "area:  263.5 centroid:  (2560, 1606) perimeter:  128.46803629398346\n",
      "area:  53.5 centroid:  (2626, 1597) perimeter:  67.35533845424652\n",
      "area:  208.0 centroid:  (2667, 1605) perimeter:  178.65180158615112\n",
      "area:  95.0 centroid:  (2643, 1600) perimeter:  75.59797894954681\n",
      "area:  90.5 centroid:  (2692, 1597) perimeter:  87.49747383594513\n",
      "area:  52.5 centroid:  (2601, 1593) perimeter:  69.01219248771667\n",
      "area:  61.5 centroid:  (1276, 1589) perimeter:  35.899494767189026\n",
      "area:  22.0 centroid:  (2681, 1589) perimeter:  40.62741661071777\n",
      "area:  30.0 centroid:  (2637, 1591) perimeter:  33.79898941516876\n",
      "area:  212.5 centroid:  (2809, 1600) perimeter:  140.12489020824432\n",
      "area:  23.5 centroid:  (2810, 1606) perimeter:  22.38477599620819\n",
      "area:  64.0 centroid:  (2460, 1589) perimeter:  116.08326029777527\n",
      "area:  46.5 centroid:  (2039, 1584) perimeter:  126.5269113779068\n",
      "area:  165.0 centroid:  (1696, 1584) perimeter:  61.5979790687561\n",
      "area:  95.5 centroid:  (2864, 1584) perimeter:  64.5269113779068\n",
      "area:  1040.5 centroid:  (2737, 1606) perimeter:  600.1980454921722\n",
      "area:  17.5 centroid:  (2738, 1615) perimeter:  18.727921724319458\n",
      "area:  99.5 centroid:  (2738, 1602) perimeter:  79.8406195640564\n",
      "area:  34.0 centroid:  (2840, 1576) perimeter:  36.97056245803833\n",
      "area:  18.5 centroid:  (2829, 1575) perimeter:  19.899494767189026\n",
      "area:  24.5 centroid:  (2668, 1579) perimeter:  45.69848418235779\n",
      "area:  28.0 centroid:  (2183, 1589) perimeter:  84.08325970172882\n",
      "area:  43.5 centroid:  (2653, 1578) perimeter:  50.041630148887634\n",
      "area:  17.5 centroid:  (2560, 1575) perimeter:  32.38477599620819\n",
      "area:  68.0 centroid:  (2332, 1575) perimeter:  62.28427076339722\n",
      "area:  36.0 centroid:  (1803, 1575) perimeter:  99.25483298301697\n",
      "area:  18.5 centroid:  (2849, 1572) perimeter:  22.727921843528748\n",
      "area:  116.5 centroid:  (2768, 1579) perimeter:  112.81118202209473\n",
      "area:  22.5 centroid:  (2519, 1573) perimeter:  25.55634880065918\n",
      "area:  91.5 centroid:  (1846, 1575) perimeter:  43.21320307254791\n",
      "area:  40.5 centroid:  (2635, 1572) perimeter:  36.38477599620819\n",
      "area:  26.0 centroid:  (2622, 1566) perimeter:  25.313708305358887\n",
      "area:  21.5 centroid:  (2384, 1566) perimeter:  25.55634891986847\n",
      "area:  30.0 centroid:  (2745, 1569) perimeter:  51.455843567848206\n",
      "area:  106.5 centroid:  (2726, 1573) perimeter:  128.46803617477417\n",
      "area:  21.0 centroid:  (2384, 1579) perimeter:  83.94112467765808\n",
      "area:  45.0 centroid:  (1847, 1565) perimeter:  86.28427076339722\n",
      "area:  17.0 centroid:  (2514, 1564) perimeter:  26.14213538169861\n",
      "area:  34.0 centroid:  (2689, 1566) perimeter:  62.76955199241638\n",
      "area:  25.5 centroid:  (2588, 1561) perimeter:  29.899494767189026\n",
      "area:  16.5 centroid:  (2504, 1562) perimeter:  23.55634868144989\n",
      "area:  86.0 centroid:  (2838, 1565) perimeter:  67.11269772052765\n",
      "area:  27.0 centroid:  (2837, 1564) perimeter:  23.798989415168762\n",
      "area:  56.5 centroid:  (2758, 1563) perimeter:  51.21320307254791\n",
      "area:  124.0 centroid:  (1140, 1569) perimeter:  57.455843567848206\n",
      "area:  507.0 centroid:  (2802, 1572) perimeter:  333.36247861385345\n",
      "area:  33.0 centroid:  (2811, 1580) perimeter:  28.97056245803833\n",
      "area:  24.0 centroid:  (2801, 1574) perimeter:  25.313708305358887\n",
      "area:  127.5 centroid:  (2664, 1559) perimeter:  85.49747371673584\n",
      "area:  35.5 centroid:  (613, 1554) perimeter:  30.3847758769989\n",
      "area:  21.0 centroid:  (2618, 1547) perimeter:  22.485281229019165\n",
      "area:  23.5 centroid:  (2150, 1546) perimeter:  23.071067690849304\n",
      "area:  18.0 centroid:  (706, 1545) perimeter:  24.142135500907898\n",
      "area:  30.0 centroid:  (2852, 1543) perimeter:  42.62741661071777\n",
      "area:  18.0 centroid:  (2725, 1543) perimeter:  23.313708305358887\n",
      "area:  23.0 centroid:  (614, 1544) perimeter:  38.14213538169861\n",
      "area:  48.5 centroid:  (2637, 1541) perimeter:  75.49747383594513\n",
      "area:  18.5 centroid:  (2369, 1538) perimeter:  22.727921843528748\n",
      "area:  87.5 centroid:  (2602, 1541) perimeter:  42.041630029678345\n",
      "area:  21.0 centroid:  (2189, 1536) perimeter:  41.455843687057495\n",
      "area:  21.0 centroid:  (2870, 1535) perimeter:  51.455843687057495\n",
      "area:  47.0 centroid:  (2860, 1532) perimeter:  46.62741661071777\n",
      "area:  32.0 centroid:  (2356, 1535) perimeter:  89.740114569664\n",
      "area:  47.5 centroid:  (1909, 1531) perimeter:  36.38477599620819\n",
      "area:  17.0 centroid:  (1029, 1526) perimeter:  18.485281229019165\n",
      "area:  39.5 centroid:  (2832, 1529) perimeter:  58.870057225227356\n",
      "area:  30.5 centroid:  (2201, 1526) perimeter:  75.84061932563782\n",
      "area:  180.5 centroid:  (2303, 1533) perimeter:  369.2030974626541\n",
      "area:  44.5 centroid:  (1082, 1521) perimeter:  32.3847758769989\n",
      "area:  15216.5 centroid:  (855, 1599) perimeter:  1211.7514276504517\n",
      "area:  100.0 centroid:  (2662, 1520) perimeter:  65.94112491607666\n",
      "area:  16.5 centroid:  (2645, 1514) perimeter:  17.071067690849304\n",
      "area:  106.5 centroid:  (2396, 1521) perimeter:  87.01219260692596\n",
      "area:  78.5 centroid:  (2717, 1514) perimeter:  49.21320307254791\n",
      "area:  18.5 centroid:  (2721, 1513) perimeter:  18.727921843528748\n",
      "area:  76.0 centroid:  (2850, 1526) perimeter:  136.36753106117249\n",
      "area:  82.5 centroid:  (1858, 1513) perimeter:  42.38477599620819\n",
      "area:  25.5 centroid:  (2697, 1506) perimeter:  39.21320307254791\n",
      "area:  60.0 centroid:  (497, 1517) perimeter:  85.25483322143555\n",
      "area:  112.5 centroid:  (2780, 1507) perimeter:  53.69848442077637\n",
      "area:  37.5 centroid:  (2688, 1502) perimeter:  31.55634891986847\n",
      "area:  44.0 centroid:  (2384, 1505) perimeter:  51.11269783973694\n",
      "area:  49.5 centroid:  (2188, 1501) perimeter:  48.870057225227356\n",
      "area:  19.5 centroid:  (2735, 1498) perimeter:  30.727921724319458\n",
      "area:  33.5 centroid:  (2614, 1499) perimeter:  78.18376529216766\n",
      "area:  190.0 centroid:  (2337, 1505) perimeter:  133.88224983215332\n",
      "area:  147.0 centroid:  (961, 1507) perimeter:  81.4558435678482\n",
      "area:  117.0 centroid:  (748, 1502) perimeter:  64.28427076339722\n",
      "area:  868.0 centroid:  (2486, 1515) perimeter:  189.82337403297424\n",
      "area:  21.5 centroid:  (2851, 1495) perimeter:  26.3847758769989\n",
      "area:  36.0 centroid:  (2612, 1492) perimeter:  36.14213538169861\n",
      "area:  20.0 centroid:  (2836, 1489) perimeter:  24.485281229019165\n",
      "area:  46.5 centroid:  (2155, 1492) perimeter:  41.21320295333862\n",
      "area:  150.5 centroid:  (2832, 1502) perimeter:  178.61017167568207\n",
      "area:  39.5 centroid:  (2340, 1490) perimeter:  52.870057225227356\n",
      "area:  20.0 centroid:  (2457, 1487) perimeter:  28.14213538169861\n",
      "area:  17.0 centroid:  (2460, 1481) perimeter:  26.14213538169861\n",
      "area:  24.0 centroid:  (2152, 1481) perimeter:  27.798989415168762\n",
      "area:  35.5 centroid:  (1239, 1479) perimeter:  24.727921843528748\n",
      "area:  289.5 centroid:  (2554, 1499) perimeter:  173.09545266628265\n",
      "area:  20.0 centroid:  (1394, 1478) perimeter:  22.485281229019165\n",
      "area:  27.5 centroid:  (2377, 1477) perimeter:  28.38477599620819\n",
      "area:  26.0 centroid:  (2353, 1476) perimeter:  35.79898953437805\n",
      "area:  23.5 centroid:  (2280, 1476) perimeter:  21.071067690849304\n",
      "area:  26.0 centroid:  (1124, 1475) perimeter:  27.798989176750183\n",
      "area:  52.0 centroid:  (2296, 1480) perimeter:  59.11269772052765\n",
      "area:  59.5 centroid:  (2437, 1475) perimeter:  69.01219248771667\n",
      "area:  32.5 centroid:  (2559, 1474) perimeter:  48.041630029678345\n",
      "area:  79.5 centroid:  (2529, 1471) perimeter:  56.5269113779068\n",
      "area:  25.0 centroid:  (2807, 1466) perimeter:  32.62741661071777\n",
      "area:  112.0 centroid:  (2144, 1471) perimeter:  48.62741661071777\n",
      "area:  19.5 centroid:  (1448, 1465) perimeter:  23.071067690849304\n",
      "area:  16.5 centroid:  (1294, 1466) perimeter:  17.899494647979736\n",
      "area:  48.0 centroid:  (2284, 1467) perimeter:  47.455843687057495\n",
      "area:  93.0 centroid:  (1132, 1467) perimeter:  69.59797894954681\n",
      "area:  26.0 centroid:  (2509, 1459) perimeter:  28.14213538169861\n",
      "area:  17.5 centroid:  (2554, 1456) perimeter:  34.3847758769989\n",
      "area:  19.0 centroid:  (1291, 1453) perimeter:  22.14213538169861\n",
      "area:  148.0 centroid:  (1085, 1460) perimeter:  66.76955199241638\n",
      "area:  93.5 centroid:  (2757, 1455) perimeter:  61.69848418235779\n",
      "area:  110.0 centroid:  (1175, 1454) perimeter:  43.79898941516876\n",
      "area:  43.5 centroid:  (2583, 1448) perimeter:  33.55634880065918\n",
      "area:  62.5 centroid:  (2563, 1447) perimeter:  42.38477599620819\n",
      "area:  43.0 centroid:  (2686, 1446) perimeter:  46.97056245803833\n",
      "area:  130.0 centroid:  (2123, 1443) perimeter:  53.79898941516876\n",
      "area:  20.0 centroid:  (2654, 1438) perimeter:  30.14213538169861\n",
      "area:  234.0 centroid:  (1771, 1446) perimeter:  82.42640602588654\n",
      "area:  73.0 centroid:  (2825, 1438) perimeter:  107.74011421203613\n",
      "area:  21.5 centroid:  (2772, 1434) perimeter:  42.38477599620819\n",
      "area:  154.0 centroid:  (2668, 1442) perimeter:  200.79393672943115\n",
      "area:  21.0 centroid:  (2648, 1433) perimeter:  46.28427076339722\n",
      "area:  81.5 centroid:  (2695, 1429) perimeter:  132.46803605556488\n",
      "area:  385.5 centroid:  (2598, 1429) perimeter:  174.40916109085083\n",
      "area:  84.5 centroid:  (1833, 1426) perimeter:  45.21320307254791\n",
      "area:  21.5 centroid:  (952, 1419) perimeter:  28.727921724319458\n",
      "area:  27.5 centroid:  (2658, 1421) perimeter:  45.21320307254791\n",
      "area:  20.5 centroid:  (2658, 1412) perimeter:  33.21320307254791\n",
      "area:  96.5 centroid:  (1126, 1424) perimeter:  72.5269113779068\n",
      "area:  24.0 centroid:  (2274, 1407) perimeter:  38.97056245803833\n",
      "area:  1883.5 centroid:  (2280, 1437) perimeter:  379.7472537755966\n",
      "area:  18.0 centroid:  (2259, 1442) perimeter:  20.14213538169861\n",
      "area:  63.0 centroid:  (2262, 1406) perimeter:  47.455843567848206\n",
      "area:  51.0 centroid:  (2752, 1402) perimeter:  51.79898953437805\n",
      "area:  49.0 centroid:  (1749, 1399) perimeter:  36.97056245803833\n",
      "area:  20.0 centroid:  (2692, 1391) perimeter:  26.14213538169861\n",
      "area:  35.5 centroid:  (2767, 1390) perimeter:  46.870057225227356\n",
      "area:  310.0 centroid:  (1188, 1405) perimeter:  121.39696884155273\n",
      "area:  4782.5 centroid:  (1486, 1432) perimeter:  450.1736605167389\n",
      "area:  32.5 centroid:  (2691, 1378) perimeter:  36.38477599620819\n",
      "area:  179.0 centroid:  (2716, 1382) perimeter:  111.05382263660431\n",
      "area:  36.0 centroid:  (2738, 1366) perimeter:  44.28427052497864\n",
      "area:  20.5 centroid:  (677, 1362) perimeter:  19.071067690849304\n",
      "area:  20.0 centroid:  (2273, 1345) perimeter:  22.14213538169861\n",
      "area:  29.0 centroid:  (883, 1323) perimeter:  23.313708305358887\n",
      "area:  33.5 centroid:  (1236, 1324) perimeter:  26.38477599620819\n",
      "area:  18.0 centroid:  (2211, 1311) perimeter:  25.313708305358887\n",
      "area:  38.5 centroid:  (1156, 1303) perimeter:  27.55634891986847\n",
      "area:  101.5 centroid:  (1741, 1300) perimeter:  60.5269113779068\n",
      "area:  82.0 centroid:  (1707, 1286) perimeter:  40.62741672992706\n",
      "area:  20.0 centroid:  (2386, 1280) perimeter:  46.627416491508484\n",
      "area:  114.0 centroid:  (1237, 1280) perimeter:  58.28427052497864\n",
      "area:  148.0 centroid:  (1280, 1281) perimeter:  69.4558436870575\n",
      "area:  34.0 centroid:  (808, 1276) perimeter:  27.313708305358887\n",
      "area:  341.0 centroid:  (2012, 1275) perimeter:  87.74011433124542\n",
      "area:  216.5 centroid:  (926, 1252) perimeter:  76.52691125869751\n",
      "area:  34.0 centroid:  (2069, 1244) perimeter:  32.62741661071777\n",
      "area:  117.5 centroid:  (1556, 1244) perimeter:  46.38477599620819\n",
      "area:  131.0 centroid:  (1698, 1244) perimeter:  52.28427052497864\n",
      "area:  29.0 centroid:  (1191, 1236) perimeter:  24.14213538169861\n",
      "area:  32.5 centroid:  (2255, 1237) perimeter:  25.899494647979736\n",
      "area:  47.0 centroid:  (982, 1236) perimeter:  33.79898953437805\n",
      "area:  83.0 centroid:  (1965, 1235) perimeter:  43.79898917675018\n",
      "area:  409.5 centroid:  (2623, 1235) perimeter:  117.98275482654572\n",
      "area:  135.0 centroid:  (1270, 1225) perimeter:  57.455843567848206\n",
      "area:  128.5 centroid:  (974, 1216) perimeter:  75.35533845424652\n",
      "area:  23.5 centroid:  (2082, 1205) perimeter:  29.55634880065918\n",
      "area:  123.5 centroid:  (2058, 1212) perimeter:  75.35533821582794\n",
      "area:  22.5 centroid:  (1067, 1201) perimeter:  21.899494767189026\n",
      "area:  84.5 centroid:  (1035, 1193) perimeter:  42.041630268096924\n",
      "area:  51.5 centroid:  (1291, 1190) perimeter:  31.899494767189026\n",
      "area:  70.0 centroid:  (2324, 1191) perimeter:  53.455843687057495\n",
      "area:  32.0 centroid:  (1106, 1183) perimeter:  28.485281229019165\n",
      "area:  17.5 centroid:  (2766, 1181) perimeter:  26.727921843528748\n",
      "area:  39.5 centroid:  (1087, 1181) perimeter:  30.727921724319458\n",
      "area:  78.5 centroid:  (1771, 1173) perimeter:  50.870057225227356\n",
      "area:  474.5 centroid:  (746, 1174) perimeter:  105.8406195640564\n",
      "area:  53.5 centroid:  (792, 1169) perimeter:  38.3847758769989\n",
      "area:  67.5 centroid:  (1052, 1155) perimeter:  42.041629910469055\n",
      "area:  51.0 centroid:  (982, 1148) perimeter:  33.31370830535889\n",
      "area:  25.5 centroid:  (1596, 1145) perimeter:  23.071067690849304\n",
      "area:  41.0 centroid:  (1252, 1142) perimeter:  28.14213538169861\n",
      "area:  71.5 centroid:  (735, 1145) perimeter:  51.69848430156708\n",
      "area:  19.0 centroid:  (1018, 1132) perimeter:  22.14213526248932\n",
      "area:  28.5 centroid:  (2633, 1130) perimeter:  25.899494767189026\n",
      "area:  43.5 centroid:  (2420, 1133) perimeter:  52.870057225227356\n",
      "area:  36.5 centroid:  (1888, 1121) perimeter:  28.727921962738037\n",
      "area:  50.5 centroid:  (1622, 1123) perimeter:  34.72792184352875\n",
      "area:  19.0 centroid:  (2409, 1120) perimeter:  37.79898953437805\n",
      "area:  156.0 centroid:  (857, 1119) perimeter:  61.94112479686737\n",
      "area:  152.0 centroid:  (1226, 1107) perimeter:  63.94112479686737\n",
      "area:  27.0 centroid:  (1281, 1103) perimeter:  36.97056245803833\n",
      "area:  272.0 centroid:  (1206, 1105) perimeter:  87.94112467765808\n",
      "area:  41.5 centroid:  (942, 1095) perimeter:  38.38477599620819\n",
      "area:  19.5 centroid:  (1258, 1084) perimeter:  24.727921843528748\n",
      "area:  21.5 centroid:  (982, 1082) perimeter:  19.071067690849304\n",
      "area:  35.0 centroid:  (773, 1084) perimeter:  28.14213526248932\n",
      "area:  31.0 centroid:  (2490, 1074) perimeter:  32.14213538169861\n",
      "area:  38.0 centroid:  (313, 1065) perimeter:  36.14213538169861\n",
      "area:  18.5 centroid:  (2196, 1060) perimeter:  31.55634880065918\n",
      "area:  25.5 centroid:  (2454, 1059) perimeter:  30.38477599620819\n",
      "area:  29.5 centroid:  (2441, 1056) perimeter:  30.3847758769989\n",
      "area:  17.5 centroid:  (2538, 1058) perimeter:  33.55634891986847\n",
      "area:  82.5 centroid:  (1173, 1053) perimeter:  51.55634891986847\n",
      "area:  646.5 centroid:  (984, 1058) perimeter:  138.1248903274536\n",
      "area:  25.5 centroid:  (1748, 1047) perimeter:  27.55634891986847\n",
      "area:  495.5 centroid:  (1475, 1060) perimeter:  150.6101714372635\n",
      "area:  26.5 centroid:  (1253, 1045) perimeter:  42.38477599620819\n",
      "area:  37.5 centroid:  (1865, 1045) perimeter:  30.38477599620819\n",
      "area:  365.0 centroid:  (742, 1057) perimeter:  123.05382263660431\n",
      "area:  18.0 centroid:  (1839, 1032) perimeter:  21.313708186149597\n",
      "area:  26.5 centroid:  (2226, 1030) perimeter:  23.899494647979736\n",
      "area:  45.0 centroid:  (2175, 1032) perimeter:  67.94112491607666\n",
      "area:  21.5 centroid:  (2307, 1029) perimeter:  26.727921843528748\n",
      "area:  138.5 centroid:  (123, 1029) perimeter:  55.21320307254791\n",
      "area:  45.0 centroid:  (1283, 1026) perimeter:  31.798989295959473\n",
      "area:  18.5 centroid:  (602, 1024) perimeter:  27.899494767189026\n",
      "area:  19.0 centroid:  (184, 1022) perimeter:  20.485281229019165\n",
      "area:  76.5 centroid:  (2183, 1022) perimeter:  39.21320295333862\n",
      "area:  21.5 centroid:  (2347, 1015) perimeter:  45.21320307254791\n",
      "area:  36.0 centroid:  (2330, 1008) perimeter:  33.79898953437805\n",
      "area:  35.5 centroid:  (849, 1012) perimeter:  40.38477599620819\n",
      "area:  26.5 centroid:  (772, 1005) perimeter:  21.899494767189026\n",
      "area:  67.0 centroid:  (1329, 1006) perimeter:  48.284270882606506\n",
      "area:  31.0 centroid:  (556, 988) perimeter:  26.485281229019165\n",
      "area:  17.5 centroid:  (2345, 983) perimeter:  19.899494767189026\n",
      "area:  75.0 centroid:  (843, 987) perimeter:  46.627416491508484\n",
      "area:  211.5 centroid:  (594, 985) perimeter:  73.6984840631485\n",
      "area:  77.5 centroid:  (911, 978) perimeter:  42.38477599620819\n",
      "area:  33.0 centroid:  (807, 975) perimeter:  35.31370830535889\n",
      "area:  17.0 centroid:  (1910, 967) perimeter:  15.656854152679443\n",
      "area:  23.5 centroid:  (2372, 967) perimeter:  23.071067690849304\n",
      "area:  24.0 centroid:  (1729, 966) perimeter:  27.313708186149597\n",
      "area:  31.0 centroid:  (1349, 969) perimeter:  26.14213526248932\n",
      "area:  24.5 centroid:  (2708, 965) perimeter:  40.38477599620819\n",
      "area:  17.5 centroid:  (2225, 953) perimeter:  25.55634891986847\n",
      "area:  690.0 centroid:  (481, 970) perimeter:  123.74011433124542\n",
      "area:  24.0 centroid:  (2240, 947) perimeter:  30.14213538169861\n",
      "area:  36.0 centroid:  (2641, 947) perimeter:  32.14213538169861\n",
      "area:  383.0 centroid:  (889, 954) perimeter:  120.91168713569641\n",
      "area:  201.0 centroid:  (368, 949) perimeter:  67.94112467765808\n",
      "area:  217.0 centroid:  (2112, 954) perimeter:  98.91168713569641\n",
      "area:  17.0 centroid:  (248, 938) perimeter:  19.656854152679443\n",
      "area:  38.0 centroid:  (1866, 939) perimeter:  32.627416491508484\n",
      "area:  382.5 centroid:  (429, 942) perimeter:  119.8406195640564\n",
      "area:  48.5 centroid:  (1508, 936) perimeter:  31.55634903907776\n",
      "area:  20.5 centroid:  (2082, 930) perimeter:  25.899494767189026\n",
      "area:  42.5 centroid:  (2342, 933) perimeter:  43.21320295333862\n",
      "area:  166.0 centroid:  (1149, 930) perimeter:  76.08325982093811\n",
      "area:  61.5 centroid:  (426, 925) perimeter:  39.21320307254791\n",
      "area:  116.0 centroid:  (884, 924) perimeter:  50.62741661071777\n",
      "area:  52.5 centroid:  (256, 921) perimeter:  71.35533845424652\n",
      "area:  21.5 centroid:  (426, 915) perimeter:  38.72792184352875\n",
      "area:  28.5 centroid:  (1353, 911) perimeter:  31.213203072547913\n",
      "area:  31.0 centroid:  (503, 910) perimeter:  26.14213526248932\n",
      "area:  20.0 centroid:  (2194, 909) perimeter:  26.14213538169861\n",
      "area:  17.5 centroid:  (902, 907) perimeter:  26.38477599620819\n",
      "area:  21.0 centroid:  (1118, 897) perimeter:  24.14213538169861\n",
      "area:  70.0 centroid:  (262, 903) perimeter:  71.94112491607666\n",
      "area:  33.5 centroid:  (237, 901) perimeter:  45.21320307254791\n",
      "area:  454.0 centroid:  (1008, 900) perimeter:  113.25483322143555\n",
      "area:  679.0 centroid:  (566, 909) perimeter:  137.19595789909363\n",
      "area:  36.0 centroid:  (1879, 893) perimeter:  32.97056233882904\n",
      "area:  17.5 centroid:  (1524, 893) perimeter:  23.899494767189026\n",
      "area:  150.0 centroid:  (803, 895) perimeter:  83.59797871112823\n",
      "area:  54.0 centroid:  (199, 893) perimeter:  36.97056245803833\n",
      "area:  25.5 centroid:  (804, 882) perimeter:  30.727921843528748\n",
      "area:  111.5 centroid:  (716, 878) perimeter:  63.69848430156708\n",
      "area:  20.0 centroid:  (820, 869) perimeter:  28.97056245803833\n",
      "area:  55.5 centroid:  (794, 869) perimeter:  42.870057106018066\n",
      "area:  23.0 centroid:  (794, 869) perimeter:  20.97056233882904\n",
      "area:  79.0 centroid:  (1042, 873) perimeter:  67.94112491607666\n",
      "area:  307.5 centroid:  (663, 876) perimeter:  96.66904652118683\n",
      "area:  79.5 centroid:  (326, 859) perimeter:  69.35533845424652\n",
      "area:  339.0 centroid:  (2274, 879) perimeter:  217.62236368656158\n",
      "area:  18.5 centroid:  (192, 852) perimeter:  27.55634891986847\n",
      "area:  87.5 centroid:  (937, 851) perimeter:  45.21320295333862\n",
      "area:  250.5 centroid:  (761, 857) perimeter:  116.46803617477417\n",
      "area:  16.5 centroid:  (874, 849) perimeter:  23.899494767189026\n",
      "area:  439.0 centroid:  (241, 863) perimeter:  130.56854164600372\n",
      "area:  134.0 centroid:  (537, 850) perimeter:  53.11269760131836\n",
      "area:  23.5 centroid:  (2672, 840) perimeter:  37.55634891986847\n",
      "area:  19.5 centroid:  (832, 842) perimeter:  25.55634880065918\n",
      "area:  35.0 centroid:  (330, 844) perimeter:  35.79898953437805\n",
      "area:  50.5 centroid:  (231, 846) perimeter:  79.01219260692596\n",
      "area:  63.0 centroid:  (2206, 840) perimeter:  37.455843567848206\n",
      "area:  25.5 centroid:  (2280, 836) perimeter:  32.38477599620819\n",
      "area:  308.0 centroid:  (906, 845) perimeter:  157.1959581375122\n",
      "area:  167.5 centroid:  (1041, 835) perimeter:  87.84061980247498\n",
      "area:  66.0 centroid:  (397, 829) perimeter:  42.97056245803833\n",
      "area:  41.0 centroid:  (666, 818) perimeter:  36.97056245803833\n",
      "area:  844.5 centroid:  (469, 828) perimeter:  247.0365775823593\n",
      "area:  150.0 centroid:  (463, 827) perimeter:  83.740114569664\n",
      "area:  19.5 centroid:  (459, 821) perimeter:  19.55634868144989\n",
      "area:  74.5 centroid:  (318, 813) perimeter:  46.041630029678345\n",
      "area:  107.0 centroid:  (921, 812) perimeter:  96.08326005935669\n",
      "area:  21.5 centroid:  (915, 813) perimeter:  20.727921843528748\n",
      "area:  18.5 centroid:  (1879, 806) perimeter:  25.071067690849304\n",
      "area:  77.5 centroid:  (1091, 811) perimeter:  48.87005698680878\n",
      "area:  19.5 centroid:  (987, 804) perimeter:  31.899494767189026\n",
      "area:  40.0 centroid:  (1280, 806) perimeter:  28.14213538169861\n",
      "area:  25.0 centroid:  (999, 803) perimeter:  30.14213538169861\n",
      "area:  76.0 centroid:  (2515, 803) perimeter:  43.455843687057495\n",
      "area:  211.5 centroid:  (946, 805) perimeter:  101.154327750206\n",
      "area:  118.5 centroid:  (742, 803) perimeter:  61.69848430156708\n",
      "area:  22.0 centroid:  (2497, 792) perimeter:  26.97056245803833\n",
      "area:  29.5 centroid:  (2688, 792) perimeter:  22.242640614509583\n",
      "area:  118.0 centroid:  (694, 794) perimeter:  52.28427076339722\n",
      "area:  464.5 centroid:  (208, 799) perimeter:  125.63960921764374\n",
      "area:  24.0 centroid:  (1019, 781) perimeter:  26.14213538169861\n",
      "area:  59.5 centroid:  (866, 775) perimeter:  34.72792184352875\n",
      "area:  32.0 centroid:  (1478, 774) perimeter:  34.14213538169861\n",
      "area:  90.5 centroid:  (908, 772) perimeter:  59.21320295333862\n",
      "area:  364.5 centroid:  (383, 782) perimeter:  104.32590067386627\n",
      "area:  117.5 centroid:  (1142, 774) perimeter:  56.87005698680878\n",
      "area:  124.0 centroid:  (1305, 762) perimeter:  59.455843687057495\n",
      "area:  39.5 centroid:  (1236, 758) perimeter:  34.72792184352875\n",
      "area:  48.0 centroid:  (230, 759) perimeter:  32.97056245803833\n",
      "area:  16.5 centroid:  (956, 754) perimeter:  24.727921843528748\n",
      "area:  68.5 centroid:  (921, 756) perimeter:  44.3847758769989\n",
      "area:  138.5 centroid:  (1499, 751) perimeter:  66.52691125869751\n",
      "area:  72.0 centroid:  (2414, 742) perimeter:  52.62741661071777\n",
      "area:  17.5 centroid:  (2663, 733) perimeter:  19.071067690849304\n",
      "area:  30.0 centroid:  (978, 733) perimeter:  26.97056233882904\n",
      "area:  1107.0 centroid:  (1802, 752) perimeter:  288.7350617647171\n",
      "area:  81.0 centroid:  (332, 733) perimeter:  53.11269772052765\n",
      "area:  47.5 centroid:  (1022, 725) perimeter:  29.213202953338623\n",
      "area:  17.5 centroid:  (407, 724) perimeter:  28.727921843528748\n",
      "area:  49.0 centroid:  (513, 727) perimeter:  40.62741661071777\n",
      "area:  126.0 centroid:  (1258, 722) perimeter:  71.11269783973694\n",
      "area:  19.0 centroid:  (2496, 716) perimeter:  28.14213538169861\n",
      "area:  66.0 centroid:  (778, 719) perimeter:  78.76955199241638\n",
      "area:  181.0 centroid:  (821, 718) perimeter:  67.59797894954681\n",
      "area:  22.5 centroid:  (472, 705) perimeter:  33.55634891986847\n",
      "area:  34.0 centroid:  (654, 703) perimeter:  53.79898953437805\n",
      "area:  48.5 centroid:  (2404, 696) perimeter:  48.041630029678345\n",
      "area:  29.0 centroid:  (1307, 695) perimeter:  37.79898953437805\n",
      "area:  381.0 centroid:  (1521, 702) perimeter:  94.76955199241638\n",
      "area:  104.0 centroid:  (1055, 689) perimeter:  70.42640614509583\n",
      "area:  31.5 centroid:  (1068, 684) perimeter:  33.21320307254791\n",
      "area:  246.0 centroid:  (577, 687) perimeter:  83.59797883033752\n",
      "area:  29.5 centroid:  (2313, 679) perimeter:  26.727921843528748\n",
      "area:  319.0 centroid:  (1084, 687) perimeter:  110.56854128837585\n",
      "area:  110.5 centroid:  (251, 677) perimeter:  54.041630148887634\n",
      "area:  163.0 centroid:  (2508, 685) perimeter:  99.25483310222626\n",
      "area:  38.0 centroid:  (290, 672) perimeter:  26.97056245803833\n",
      "area:  143.5 centroid:  (769, 669) perimeter:  110.46803617477417\n",
      "area:  281.5 centroid:  (830, 666) perimeter:  92.66904675960541\n",
      "area:  31.5 centroid:  (1375, 658) perimeter:  24.727921843528748\n",
      "area:  53.0 centroid:  (1123, 660) perimeter:  38.627416372299194\n",
      "area:  138.5 centroid:  (1020, 656) perimeter:  66.04163014888763\n",
      "area:  295.5 centroid:  (526, 657) perimeter:  81.35533833503723\n",
      "area:  113.0 centroid:  (275, 651) perimeter:  59.455843687057495\n",
      "area:  63.0 centroid:  (358, 641) perimeter:  50.28427064418793\n",
      "area:  184.5 centroid:  (2549, 646) perimeter:  95.49747383594513\n",
      "area:  16.5 centroid:  (1982, 631) perimeter:  22.727921843528748\n",
      "area:  279.5 centroid:  (924, 638) perimeter:  109.1543276309967\n",
      "area:  38.0 centroid:  (2444, 624) perimeter:  34.97056245803833\n",
      "area:  19.5 centroid:  (1978, 620) perimeter:  38.38477599620819\n",
      "area:  116.0 centroid:  (1383, 617) perimeter:  61.11269819736481\n",
      "area:  22.0 centroid:  (2554, 612) perimeter:  37.79898953437805\n",
      "area:  266.0 centroid:  (1075, 620) perimeter:  110.22539556026459\n",
      "area:  24.5 centroid:  (855, 601) perimeter:  48.041630029678345\n",
      "area:  20.0 centroid:  (1128, 598) perimeter:  26.485281109809875\n",
      "area:  18.5 centroid:  (2529, 589) perimeter:  39.21320307254791\n",
      "area:  245.5 centroid:  (833, 603) perimeter:  123.15432798862457\n",
      "area:  16.5 centroid:  (508, 584) perimeter:  17.899494767189026\n",
      "area:  17.0 centroid:  (315, 585) perimeter:  58.28427064418793\n",
      "area:  22.5 centroid:  (857, 581) perimeter:  41.21320307254791\n",
      "area:  22.5 centroid:  (2380, 576) perimeter:  32.38477599620819\n",
      "area:  18.0 centroid:  (923, 567) perimeter:  24.485281229019165\n",
      "area:  126.5 centroid:  (911, 571) perimeter:  85.01219260692596\n",
      "area:  280.5 centroid:  (1955, 570) perimeter:  113.15432810783386\n",
      "area:  45.0 centroid:  (833, 563) perimeter:  28.14213538169861\n",
      "area:  41.5 centroid:  (663, 559) perimeter:  40.3847758769989\n",
      "area:  235.0 centroid:  (489, 562) perimeter:  77.59797894954681\n",
      "area:  29.5 centroid:  (2391, 551) perimeter:  30.727921843528748\n",
      "area:  47.0 centroid:  (498, 545) perimeter:  74.76955199241638\n",
      "area:  41.5 centroid:  (814, 538) perimeter:  30.727921843528748\n",
      "area:  135.5 centroid:  (2285, 543) perimeter:  139.78174459934235\n",
      "area:  165.0 centroid:  (1463, 541) perimeter:  94.2253954410553\n",
      "area:  65.5 centroid:  (473, 534) perimeter:  52.041630148887634\n",
      "area:  88.5 centroid:  (356, 539) perimeter:  99.15432751178741\n",
      "area:  45.5 centroid:  (530, 531) perimeter:  45.21320295333862\n",
      "area:  229.5 centroid:  (1079, 534) perimeter:  89.8406195640564\n",
      "area:  20.5 centroid:  (837, 524) perimeter:  25.899494767189026\n",
      "area:  20.0 centroid:  (1112, 525) perimeter:  26.627416729927063\n",
      "area:  21.5 centroid:  (2510, 520) perimeter:  25.55634891986847\n",
      "area:  24.5 centroid:  (1844, 519) perimeter:  21.071067690849304\n",
      "area:  76.5 centroid:  (420, 519) perimeter:  35.55634880065918\n",
      "area:  70.5 centroid:  (1689, 518) perimeter:  52.041630029678345\n",
      "area:  29.0 centroid:  (2500, 516) perimeter:  36.14213538169861\n",
      "area:  33.0 centroid:  (2514, 510) perimeter:  24.485281229019165\n",
      "area:  386.0 centroid:  (2304, 523) perimeter:  113.88224971294403\n",
      "area:  58.0 centroid:  (866, 511) perimeter:  38.14213526248932\n",
      "area:  21.5 centroid:  (1870, 509) perimeter:  35.21320307254791\n",
      "area:  34.5 centroid:  (606, 504) perimeter:  28.727921843528748\n",
      "area:  20.5 centroid:  (2433, 500) perimeter:  29.899494767189026\n",
      "area:  20.0 centroid:  (774, 503) perimeter:  27.313708305358887\n",
      "area:  33.5 centroid:  (794, 500) perimeter:  30.727921843528748\n",
      "area:  120.5 centroid:  (711, 498) perimeter:  56.041630029678345\n",
      "area:  38.5 centroid:  (334, 497) perimeter:  73.84061968326569\n",
      "area:  115.5 centroid:  (1065, 495) perimeter:  48.38477599620819\n",
      "area:  47.5 centroid:  (2335, 484) perimeter:  33.55634891986847\n",
      "area:  82.5 centroid:  (1844, 486) perimeter:  50.870057225227356\n",
      "area:  17.5 centroid:  (511, 473) perimeter:  20.727921843528748\n",
      "area:  22.0 centroid:  (884, 472) perimeter:  35.31370830535889\n",
      "area:  27.0 centroid:  (931, 468) perimeter:  34.14213538169861\n",
      "area:  39.5 centroid:  (1629, 468) perimeter:  28.727921843528748\n",
      "area:  23.0 centroid:  (2392, 468) perimeter:  51.11269760131836\n",
      "area:  577.5 centroid:  (472, 475) perimeter:  118.81118214130402\n",
      "area:  27.5 centroid:  (1385, 459) perimeter:  37.899494767189026\n",
      "area:  141.5 centroid:  (1174, 459) perimeter:  68.5269113779068\n",
      "area:  18.5 centroid:  (1177, 459) perimeter:  20.38477599620819\n",
      "area:  28.5 centroid:  (1640, 454) perimeter:  41.21320295333862\n",
      "area:  56.5 centroid:  (1088, 450) perimeter:  35.55634891986847\n",
      "area:  17.5 centroid:  (2385, 449) perimeter:  27.55634891986847\n",
      "area:  63.0 centroid:  (1649, 451) perimeter:  42.627416372299194\n",
      "area:  29.5 centroid:  (2406, 445) perimeter:  31.55634880065918\n",
      "area:  31.5 centroid:  (1218, 443) perimeter:  26.727921843528748\n",
      "area:  49.5 centroid:  (875, 445) perimeter:  46.041630148887634\n",
      "area:  24.0 centroid:  (1303, 438) perimeter:  27.79898953437805\n",
      "area:  111.5 centroid:  (1741, 439) perimeter:  67.01219284534454\n",
      "area:  168.5 centroid:  (1115, 438) perimeter:  54.870057106018066\n",
      "area:  192.5 centroid:  (844, 439) perimeter:  74.18376553058624\n",
      "area:  16.5 centroid:  (2330, 431) perimeter:  20.727921843528748\n",
      "area:  70.5 centroid:  (1052, 435) perimeter:  41.21320307254791\n",
      "area:  78.5 centroid:  (2311, 430) perimeter:  39.21320307254791\n",
      "area:  28.0 centroid:  (957, 426) perimeter:  22.485281229019165\n",
      "area:  34.5 centroid:  (2483, 416) perimeter:  30.38477599620819\n",
      "area:  37.0 centroid:  (699, 416) perimeter:  33.79898941516876\n",
      "area:  22.5 centroid:  (2324, 414) perimeter:  34.041629791259766\n",
      "area:  243.5 centroid:  (616, 416) perimeter:  81.35533821582794\n",
      "area:  103.0 centroid:  (448, 406) perimeter:  48.62741661071777\n",
      "area:  45.0 centroid:  (799, 401) perimeter:  50.97056245803833\n",
      "area:  36.0 centroid:  (2497, 397) perimeter:  44.28427064418793\n",
      "area:  23.5 centroid:  (1954, 391) perimeter:  25.071067690849304\n",
      "area:  23.0 centroid:  (2190, 382) perimeter:  25.313708305358887\n",
      "area:  27.0 centroid:  (592, 379) perimeter:  35.79898953437805\n",
      "area:  16.5 centroid:  (2114, 376) perimeter:  17.899494767189026\n",
      "area:  26.5 centroid:  (1685, 370) perimeter:  21.899494767189026\n",
      "area:  21.0 centroid:  (885, 367) perimeter:  24.485281229019165\n",
      "area:  98.0 centroid:  (1106, 352) perimeter:  43.31370830535889\n",
      "area:  21.5 centroid:  (650, 347) perimeter:  22.727921843528748\n",
      "area:  39.0 centroid:  (1780, 344) perimeter:  34.14213538169861\n",
      "area:  82.0 centroid:  (1232, 341) perimeter:  45.79898953437805\n",
      "area:  16.5 centroid:  (670, 334) perimeter:  30.3847758769989\n",
      "area:  37.5 centroid:  (1080, 330) perimeter:  38.041630148887634\n",
      "area:  21.0 centroid:  (1586, 325) perimeter:  34.62741661071777\n",
      "area:  537.5 centroid:  (456, 335) perimeter:  138.12489020824432\n",
      "area:  110.5 centroid:  (1718, 325) perimeter:  67.0121922492981\n",
      "area:  37.0 centroid:  (1619, 316) perimeter:  34.97056245803833\n",
      "area:  25.0 centroid:  (1892, 313) perimeter:  27.313708305358887\n",
      "area:  44.5 centroid:  (1933, 307) perimeter:  38.041630029678345\n",
      "area:  76.0 centroid:  (626, 312) perimeter:  63.94112479686737\n",
      "area:  25.0 centroid:  (1151, 302) perimeter:  21.313708305358887\n",
      "area:  42.0 centroid:  (697, 299) perimeter:  31.313708305358887\n",
      "area:  64.0 centroid:  (1092, 288) perimeter:  36.62741661071777\n",
      "area:  810.5 centroid:  (841, 307) perimeter:  166.26702547073364\n",
      "area:  18.5 centroid:  (1163, 284) perimeter:  19.899494647979736\n",
      "area:  64.5 centroid:  (529, 280) perimeter:  49.69848418235779\n",
      "area:  16.5 centroid:  (1121, 273) perimeter:  21.899494647979736\n",
      "area:  230.5 centroid:  (1242, 269) perimeter:  82.52691125869751\n",
      "area:  20.5 centroid:  (2063, 265) perimeter:  22.727921843528748\n",
      "area:  88.0 centroid:  (1887, 267) perimeter:  63.11269795894623\n",
      "area:  177.0 centroid:  (575, 268) perimeter:  87.25483310222626\n",
      "area:  67.5 centroid:  (888, 239) perimeter:  39.21320307254791\n",
      "area:  155.0 centroid:  (1118, 239) perimeter:  66.76955187320709\n",
      "area:  165.0 centroid:  (660, 231) perimeter:  85.396968126297\n",
      "area:  17.5 centroid:  (1349, 225) perimeter:  24.727921843528748\n",
      "area:  270.0 centroid:  (734, 230) perimeter:  89.25483345985413\n",
      "area:  52.5 centroid:  (1929, 218) perimeter:  35.55634891986847\n",
      "area:  60.0 centroid:  (778, 220) perimeter:  35.79898941516876\n",
      "area:  81.5 centroid:  (862, 213) perimeter:  61.35533833503723\n",
      "area:  34.5 centroid:  (1757, 207) perimeter:  26.727921724319458\n",
      "area:  191.5 centroid:  (1721, 205) perimeter:  86.66904652118683\n",
      "area:  100.5 centroid:  (1057, 194) perimeter:  54.041630148887634\n",
      "area:  95.5 centroid:  (1273, 193) perimeter:  55.6984840631485\n",
      "area:  27.5 centroid:  (1844, 175) perimeter:  26.727921843528748\n",
      "area:  73.5 centroid:  (1771, 178) perimeter:  60.5269113779068\n",
      "area:  20.0 centroid:  (1837, 173) perimeter:  44.14213538169861\n",
      "area:  35.5 centroid:  (1797, 172) perimeter:  30.384775757789612\n",
      "area:  21.0 centroid:  (1352, 168) perimeter:  27.313708305358887\n",
      "area:  32.0 centroid:  (946, 168) perimeter:  26.485281229019165\n",
      "area:  31.5 centroid:  (929, 163) perimeter:  36.38477599620819\n",
      "area:  28.0 centroid:  (870, 163) perimeter:  30.14213538169861\n",
      "area:  55.0 centroid:  (897, 164) perimeter:  36.14213538169861\n",
      "area:  23.0 centroid:  (1164, 144) perimeter:  30.14213538169861\n",
      "area:  19.5 centroid:  (1072, 145) perimeter:  21.899494647979736\n",
      "area:  72.5 centroid:  (1516, 143) perimeter:  39.21320307254791\n",
      "area:  111.5 centroid:  (922, 128) perimeter:  53.6984840631485\n",
      "area:  22.5 centroid:  (897, 114) perimeter:  21.071067690849304\n",
      "area:  116.0 centroid:  (937, 116) perimeter:  63.11269772052765\n",
      "area:  256.0 centroid:  (1709, 115) perimeter:  92.42640590667725\n",
      "area:  101.0 centroid:  (1361, 107) perimeter:  68.62741661071777\n",
      "area:  46.0 centroid:  (1621, 95) perimeter:  48.627416491508484\n",
      "area:  100.0 centroid:  (1529, 99) perimeter:  63.5979790687561\n",
      "area:  57.0 centroid:  (1287, 94) perimeter:  34.97056233882904\n",
      "area:  136.0 centroid:  (1101, 79) perimeter:  64.42640614509583\n",
      "area:  22.5 centroid:  (1228, 33) perimeter:  21.071067690849304\n",
      "area:  46.0 centroid:  (1172, 33) perimeter:  36.14213538169861\n",
      "area:  30.5 centroid:  (1106, 31) perimeter:  27.55634880065918\n",
      "area:  53.5 centroid:  (1160, 14) perimeter:  56.041630148887634\n"
     ]
    },
    {
     "data": {
      "text/plain": [
       "<matplotlib.image.AxesImage at 0x7fa45a0b61d0>"
      ]
     },
     "execution_count": 282,
     "metadata": {},
     "output_type": "execute_result"
    },
    {
     "data": {
      "image/png": "[encoded data removed]",
      "text/plain": [
       "<Figure size 432x288 with 1 Axes>"
      ]
     },
     "metadata": {
      "needs_background": "light"
     },
     "output_type": "display_data"
    }
   ],
   "source": [
    "f, ax1 = plt.subplots(1)\n",
    "\n",
    "frame = thresh\n",
    "for i, contour in enumerate(contours):\n",
    "    c_area = cv2.contourArea(contour)\n",
    "    c_perimeter = cv2.arcLength(contour, True)\n",
    "    if (c_area > 16):\n",
    "        moments_cnt = cv2.moments(contour)\n",
    "        cx = int(moments_cnt['m10']/moments_cnt['m00'])\n",
    "        cy = int(moments_cnt['m01']/moments_cnt['m00'])\n",
    "        print(\"area: \", c_area, \"centroid: \", (cx, cy), \"perimeter: \", c_perimeter)\n",
    "        #ax1.plot(cx, cy, 'o')\n",
    "        frame = cv2.drawContours(frame, contour, -1, (0, 255, 0), 2)\n",
    "\n",
    "\n",
    "frameWithContours = cv2.drawContours(frame, contours, -1, (0, 255, 0), 2)\n",
    "\n",
    "#ax1.imshow(frameWithContours)\n",
    "ax1.imshow(frame)"
   ]
  },
  {
   "cell_type": "code",
   "execution_count": 287,
   "metadata": {},
   "outputs": [
    {
     "data": {
      "text/plain": [
       "<matplotlib.image.AxesImage at 0x7fa40e6cad50>"
      ]
     },
     "execution_count": 287,
     "metadata": {},
     "output_type": "execute_result"
    },
    {
     "data": {
      "image/png": "[encoded data removed]",
      "text/plain": [
       "<Figure size 432x288 with 1 Axes>"
      ]
     },
     "metadata": {
      "needs_background": "light"
     },
     "output_type": "display_data"
    }
   ],
   "source": [
    "plt.imshow(frame[1300:1950,750:1600])"
   ]
  },
  {
   "cell_type": "code",
   "execution_count": 284,
   "metadata": {},
   "outputs": [
    {
     "data": {
      "text/plain": [
       "(2930, 2880)"
      ]
     },
     "execution_count": 284,
     "metadata": {},
     "output_type": "execute_result"
    }
   ],
   "source": [
    "frame.shape"
   ]
  },
  {
   "cell_type": "code",
   "execution_count": 306,
   "metadata": {},
   "outputs": [
    {
     "data": {
      "text/plain": [
       "array([ 1.69515,  2.40615,  4.30425, 10.14075, 13.69485])"
      ]
     },
     "execution_count": 306,
     "metadata": {},
     "output_type": "execute_result"
    }
   ],
   "source": [
    "contoursArea = map(cv2.contourArea, contours)\n",
    "contoursAreaNumpy = np.sort(list(contoursArea))\n",
    "np.sort(contoursAreaNumpy)[-5:]*900/1e6 #area in km^2"
   ]
  },
  {
   "cell_type": "code",
   "execution_count": 305,
   "metadata": {},
   "outputs": [
    {
     "data": {
      "text/plain": [
       "4304250.0"
      ]
     },
     "execution_count": 305,
     "metadata": {},
     "output_type": "execute_result"
    }
   ],
   "source": [
    "4782.5*900"
   ]
  },
  {
   "cell_type": "code",
   "execution_count": null,
   "metadata": {},
   "outputs": [],
   "source": []
  }
 ],
 "metadata": {
  "colab": {
   "collapsed_sections": [],
   "name": "TestingUnsupervisedClassification_AdaptationOfGEEtutorial_Hyderabad_WithPixelLonLat.ipynb",
   "provenance": []
  },
  "kernelspec": {
   "display_name": "Python [conda env:ee]",
   "language": "python",
   "name": "conda-env-ee-py"
  },
  "language_info": {
   "codemirror_mode": {
    "name": "ipython",
    "version": 3
   },
   "file_extension": ".py",
   "mimetype": "text/x-python",
   "name": "python",
   "nbconvert_exporter": "python",
   "pygments_lexer": "ipython3",
   "version": "3.7.6"
  }
 },
 "nbformat": 4,
 "nbformat_minor": 2
}
