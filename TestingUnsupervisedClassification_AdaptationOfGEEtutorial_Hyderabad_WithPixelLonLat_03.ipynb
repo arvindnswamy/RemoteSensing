{
 "cells": [
  {
   "cell_type": "code",
   "execution_count": 62,
   "metadata": {
    "colab": {
     "base_uri": "https://localhost:8080/",
     "height": 176
    },
    "colab_type": "code",
    "id": "la3sPxooKm8M",
    "outputId": "79be6a82-1bfe-4019-fd15-e2605e5dc0a7"
   },
   "outputs": [
    {
     "data": {
      "text/html": [
       "<p>To authorize access needed by Earth Engine, open the following\n",
       "        URL in a web browser and follow the instructions:</p>\n",
       "        <p><a href=https://accounts.google.com/o/oauth2/auth?client_id=517222506229-vsmmajv00ul0bs7p89v5m89qs8eb9359.apps.googleusercontent.com&scope=https%3A%2F%2Fwww.googleapis.com%2Fauth%2Fearthengine+https%3A%2F%2Fwww.googleapis.com%2Fauth%2Fdevstorage.full_control&redirect_uri=urn%3Aietf%3Awg%3Aoauth%3A2.0%3Aoob&response_type=code&code_challenge=Da91z7w5-PFLsrRzV_q-DSy7dzpe3_z9v41JP1QDjnA&code_challenge_method=S256>https://accounts.google.com/o/oauth2/auth?client_id=517222506229-vsmmajv00ul0bs7p89v5m89qs8eb9359.apps.googleusercontent.com&scope=https%3A%2F%2Fwww.googleapis.com%2Fauth%2Fearthengine+https%3A%2F%2Fwww.googleapis.com%2Fauth%2Fdevstorage.full_control&redirect_uri=urn%3Aietf%3Awg%3Aoauth%3A2.0%3Aoob&response_type=code&code_challenge=Da91z7w5-PFLsrRzV_q-DSy7dzpe3_z9v41JP1QDjnA&code_challenge_method=S256</a></p>\n",
       "        <p>The authorization workflow will generate a code, which you\n",
       "        should paste in the box below</p>\n",
       "        "
      ],
      "text/plain": [
       "<IPython.core.display.HTML object>"
      ]
     },
     "metadata": {},
     "output_type": "display_data"
    },
    {
     "name": "stdout",
     "output_type": "stream",
     "text": [
      "\n",
      "Successfully saved authorization token.\n"
     ]
    }
   ],
   "source": [
    "import ee\n",
    "\n",
    "from IPython.display import Image\n",
    "\n",
    "ee.Authenticate() #Usual authentication, so far. Nothing new"
   ]
  },
  {
   "cell_type": "code",
   "execution_count": 63,
   "metadata": {
    "colab": {},
    "colab_type": "code",
    "id": "FKk3kD9rLMpZ"
   },
   "outputs": [],
   "source": [
    "ee.Initialize()"
   ]
  },
  {
   "cell_type": "code",
   "execution_count": 64,
   "metadata": {
    "colab": {},
    "colab_type": "code",
    "id": "RhlV3oCsLWrX"
   },
   "outputs": [],
   "source": [
    "#Function to download images as a list - thanks Connor Finn. \n",
    "def get_images(path_list, row_list, satellite, start_date, end_date, max_cloud_percentage):\n",
    "  coll = ee.ImageCollection(satellite).filterDate(start_date, end_date)\\\n",
    "            .filter(ee.Filter.inList('WRS_PATH', path_list))\\\n",
    "            .filter(ee.Filter.inList('WRS_ROW', row_list))\\\n",
    "            .filter(ee.Filter.lt('CLOUD_COVER', max_cloud_percentage))\n",
    "  image_ids = list(map(lambda x: x['id'], coll.getInfo()['features']))\n",
    "\n",
    "  images = list(map(lambda x: ee.Image(x), image_ids))\n",
    "\n",
    "  return images"
   ]
  },
  {
   "cell_type": "code",
   "execution_count": 65,
   "metadata": {
    "colab": {
     "base_uri": "https://localhost:8080/",
     "height": 243
    },
    "colab_type": "code",
    "id": "KfGPZ4MvLr0f",
    "outputId": "f88c62ef-bd6a-494d-9a80-0ff05fc8bd49"
   },
   "outputs": [
    {
     "name": "stdout",
     "output_type": "stream",
     "text": [
      "Requirement already satisfied: geojson in /home/arvindn/anaconda3/envs/ee/lib/python3.7/site-packages (2.5.0)\n",
      "Requirement already satisfied: pygeoj in /home/arvindn/anaconda3/envs/ee/lib/python3.7/site-packages (1.0.0)\n"
     ]
    }
   ],
   "source": [
    "'''\n",
    "Functions needed to display images and features/featurecollections are given here. \n",
    "These functions are all from other sources. Mostly from google tutorials.\n",
    "'''\n",
    "!pip install geojson\n",
    "!pip install pygeoj\n",
    "import geojson\n",
    "import json\n",
    "import pygeoj\n",
    "import numpy as np\n",
    "\n",
    "\n",
    "import folium\n",
    "\n",
    "\n",
    "# Define a method for displaying Earth Engine image tiles to folium map.\n",
    "def add_ee_layer(self, ee_image_object, vis_params, name):\n",
    "  map_id_dict = ee.Image(ee_image_object).getMapId(vis_params)\n",
    "  folium.raster_layers.TileLayer(\n",
    "    tiles = map_id_dict['tile_fetcher'].url_format,\n",
    "    attr = \"Map Data © Google Earth Engine\",\n",
    "    name = name,\n",
    "    overlay = True,\n",
    "    control = True\n",
    "  ).add_to(self)\n",
    "\n",
    "# Add EE drawing method to folium.\n",
    "folium.Map.add_ee_layer = add_ee_layer\n",
    "\n",
    "#@title Mapdisplay: Display GEE objects using folium.\n",
    "def Mapdisplay(center, dicc, Tiles=\"OpensTreetMap\",zoom_start=10):\n",
    "    '''\n",
    "    :param center: Center of the map (Latitude and Longitude).\n",
    "    :param dicc: Earth Engine Geometries or Tiles dictionary\n",
    "    :param Tiles: Mapbox Bright,Mapbox Control Room,Stamen Terrain,Stamen Toner,stamenwatercolor,cartodbpositron.\n",
    "    :zoom_start: Initial zoom level for the map.\n",
    "    :return: A folium.Map object.\n",
    "    '''\n",
    "    mapViz = folium.Map(location=center,tiles=Tiles, zoom_start=zoom_start)\n",
    "    for k,v in dicc.items():\n",
    "      if ee.image.Image in [type(x) for x in v.values()]:\n",
    "        folium.TileLayer(\n",
    "            tiles = v[\"tile_fetcher\"].url_format,\n",
    "            attr  = 'Google Earth Engine',\n",
    "            overlay =True,\n",
    "            name  = k\n",
    "          ).add_to(mapViz)\n",
    "      else:\n",
    "        folium.GeoJson(\n",
    "        data = v,\n",
    "        name = k\n",
    "          ).add_to(mapViz)\n",
    "    mapViz.add_child(folium.LayerControl())\n",
    "    return mapViz"
   ]
  },
  {
   "cell_type": "code",
   "execution_count": 66,
   "metadata": {
    "colab": {},
    "colab_type": "code",
    "id": "H_-bb0PqLyF-"
   },
   "outputs": [],
   "source": [
    "p = [144]\n",
    "r = [48]\n",
    "sat = 'LANDSAT/LC08/C01/T1'\n",
    "sd = '2013-05-01'\n",
    "ed = '2020-05-01'\n",
    "cc= 5\n",
    "\n",
    "image_list = get_images(p, r, sat, sd, ed, cc)"
   ]
  },
  {
   "cell_type": "code",
   "execution_count": 67,
   "metadata": {
    "colab": {},
    "colab_type": "code",
    "id": "N0jlJFKVL9JM"
   },
   "outputs": [],
   "source": [
    "inputimg = image_list[0]\n",
    "\n",
    "def addBandsToLandsat8_NDWI_NDVI_PixelLonLat(image):\n",
    "  '''\n",
    "  Function to add bands NDWI, NDVI, and PixelLonLat to a Landsat8 image\n",
    "  '''\n",
    "  ndwi = image.normalizedDifference(['B3', 'B6']).rename('ndwi')\n",
    "  ndvi = image.normalizedDifference(['B5', 'B4']).rename('ndvi')\n",
    "  imgpixLonLat = image.pixelLonLat()\n",
    "\n",
    "  image1 = image.addBands(ndwi).addBands(ndvi).addBands(imgpixLonLat)\n",
    "\n",
    "  return image1\n",
    "\n",
    "inputimgWithAddedBands = addBandsToLandsat8_NDWI_NDVI_PixelLonLat(inputimg)"
   ]
  },
  {
   "cell_type": "code",
   "execution_count": 68,
   "metadata": {
    "colab": {},
    "colab_type": "code",
    "id": "D83h4qJXMPZB"
   },
   "outputs": [],
   "source": [
    "roisite = ee.Geometry.Rectangle([77999/1000, 17135/1000, 78889/1000, 17701/1000]);"
   ]
  },
  {
   "cell_type": "code",
   "execution_count": 69,
   "metadata": {
    "colab": {},
    "colab_type": "code",
    "id": "gq-XbsHxMmOx"
   },
   "outputs": [],
   "source": [
    "#training = inputimg.sample({'region': nycsite, 'scale': 30.0, 'numPixels': 5000});\n",
    "bandToBeUsed = ['B1', 'B2', 'B3', 'B4', 'B5', 'B6', 'B7', 'B9', 'B10', 'B11', 'ndwi', 'ndvi']\n",
    "training = inputimgWithAddedBands.select(bandToBeUsed).sample(region = roisite, scale = 30.0, numPixels = 5000); #Training is based on 500 randomly chosen pizels from within NYC area"
   ]
  },
  {
   "cell_type": "code",
   "execution_count": 70,
   "metadata": {
    "colab": {},
    "colab_type": "code",
    "id": "mqUDd0n4Mw0O"
   },
   "outputs": [],
   "source": [
    "numClusters = 3 #Number of clusters, I suspect. I think this should correspond to urban, non-urban, and water.\n",
    "clusterer = ee.Clusterer.wekaKMeans(numClusters).train(training) #Not sure what wekaMeans is - just the code used in the GEE tutorial"
   ]
  },
  {
   "cell_type": "code",
   "execution_count": 71,
   "metadata": {
    "colab": {},
    "colab_type": "code",
    "id": "qEX9jEhSNVIA"
   },
   "outputs": [],
   "source": [
    "result = inputimgWithAddedBands.cluster(clusterer); #Clustered result"
   ]
  },
  {
   "cell_type": "code",
   "execution_count": 72,
   "metadata": {
    "colab": {
     "base_uri": "https://localhost:8080/",
     "height": 842
    },
    "colab_type": "code",
    "id": "OWuCtrioNZs4",
    "outputId": "e869b0b2-4b62-4a5e-ad9f-b7bb2ae1adf5"
   },
   "outputs": [
    {
     "data": {
      "text/html": [
       "<div style=\"width:100%;\"><div style=\"position:relative;width:100%;height:0;padding-bottom:60%;\"><span style=\"color:#565656\">Make this Notebook Trusted to load map: File -> Trust Notebook</span><iframe src=\"about:blank\" style=\"position:absolute;width:100%;height:100%;left:0;top:0;border:none !important;\" data-html=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 onload=\"this.contentDocument.open();this.contentDocument.write(atob(this.getAttribute('data-html')));this.contentDocument.close();\" allowfullscreen webkitallowfullscreen mozallowfullscreen></iframe></div></div>"
      ],
      "text/plain": [
       "<folium.folium.Map at 0x7f6b35e1c550>"
      ]
     },
     "execution_count": 72,
     "metadata": {},
     "output_type": "execute_result"
    }
   ],
   "source": [
    "my_map = folium.Map(location=[ 17.429, 78.483], zoom_start=9, height=500) #Adding result to folium map\n",
    "\n",
    "my_map.add_ee_layer(result, {'min': 0, 'max': numClusters-1, 'palette': ['white', 'blue', 'green'], 'opacity':0.9}, 'clustering')\n",
    "#my_map.add_ee_layer(inputimg.select(['B4','B3','B2']), {'min': 0, 'max': 30000, 'palette': [], 'opacity': 0.8}, 'image')\n",
    "my_map.add_child(folium.LayerControl())"
   ]
  },
  {
   "cell_type": "code",
   "execution_count": 73,
   "metadata": {
    "colab": {
     "base_uri": "https://localhost:8080/",
     "height": 72
    },
    "colab_type": "code",
    "id": "XKWOYe7yPKq8",
    "outputId": "57ef4fa3-528c-4ca6-f47e-c8faf534f481"
   },
   "outputs": [],
   "source": [
    "import seaborn as sns\n",
    "import matplotlib.pyplot as plt\n",
    "\n",
    "toBeHisted = result.sample(numPixels = 1000).reduceColumns(ee.Reducer.toList().repeat(1), ['cluster']).get('list').getInfo()[0]"
   ]
  },
  {
   "cell_type": "code",
   "execution_count": 74,
   "metadata": {
    "colab": {
     "base_uri": "https://localhost:8080/",
     "height": 317
    },
    "colab_type": "code",
    "id": "iz3Pd4d5uLda",
    "outputId": "ba49b492-6fef-4afd-a662-22dc943b776a"
   },
   "outputs": [
    {
     "data": {
      "text/plain": [
       "(array([460.,  45., 475.]),\n",
       " array([0.        , 0.66666667, 1.33333333, 2.        ]),\n",
       " <a list of 3 Patch objects>)"
      ]
     },
     "execution_count": 74,
     "metadata": {},
     "output_type": "execute_result"
    },
    {
     "data": {
      "image/png": "[encoded data removed]",
      "text/plain": [
       "<Figure size 432x288 with 1 Axes>"
      ]
     },
     "metadata": {
      "needs_background": "light"
     },
     "output_type": "display_data"
    }
   ],
   "source": [
    "plt.hist(toBeHisted, bins = numClusters,  align='mid')"
   ]
  },
  {
   "cell_type": "code",
   "execution_count": 75,
   "metadata": {
    "colab": {
     "base_uri": "https://localhost:8080/",
     "height": 282
    },
    "colab_type": "code",
    "id": "XCNAwCyj9Glv",
    "outputId": "2c439eac-bcc6-406a-9b29-65ddf71fa321"
   },
   "outputs": [
    {
     "data": {
      "text/plain": [
       "<matplotlib.axes._subplots.AxesSubplot at 0x7f6b36585250>"
      ]
     },
     "execution_count": 75,
     "metadata": {},
     "output_type": "execute_result"
    },
    {
     "data": {
      "image/png": "[encoded data removed]",
      "text/plain": [
       "<Figure size 432x288 with 1 Axes>"
      ]
     },
     "metadata": {
      "needs_background": "light"
     },
     "output_type": "display_data"
    }
   ],
   "source": [
    "import seaborn as sns\n",
    "sns.distplot(ee.List(inputimgWithAddedBands.select(['ndwi']).sample(numPixels = 1000).reduceColumns(ee.Reducer.toList().repeat(1), ['ndwi']).get('list')).getInfo(),\n",
    "             label='B3B6')\n",
    "sns.distplot(ee.List(inputimgWithAddedBands.select(['ndvi']).sample(numPixels = 1000).reduceColumns(ee.Reducer.toList().repeat(1), ['ndvi']).get('list')).getInfo(),label='B5B4')"
   ]
  },
  {
   "cell_type": "code",
   "execution_count": 76,
   "metadata": {
    "colab": {},
    "colab_type": "code",
    "id": "4yc5jr9U-IYZ"
   },
   "outputs": [],
   "source": [
    "waterRegion = inputimgWithAddedBands.select(['ndwi']).gt(0.05)\n",
    "greenRegion = inputimgWithAddedBands.select(['ndvi']).gt(0.2)"
   ]
  },
  {
   "cell_type": "code",
   "execution_count": 77,
   "metadata": {
    "colab": {
     "base_uri": "https://localhost:8080/",
     "height": 621
    },
    "colab_type": "code",
    "id": "ko4xnf6z-grT",
    "outputId": "5f3ac227-eb05-45fb-c3d9-aae57611bd05"
   },
   "outputs": [
    {
     "data": {
      "text/html": [
       "<img src=\"https://earthengine.googleapis.com/v1alpha/projects/earthengine-legacy/thumbnails/274b9f5e866a4a2581f6682f1a189e1a-917e81efa5507278d5c3ca35e6e13307:getPixels\"/>"
      ],
      "text/plain": [
       "<IPython.core.display.Image object>"
      ]
     },
     "execution_count": 77,
     "metadata": {},
     "output_type": "execute_result"
    }
   ],
   "source": [
    "parameters = {'min': 0,\n",
    "              'max': 1.0,\n",
    "              'dimensions': 600}\n",
    "Image(url = waterRegion.select(['ndwi']).getThumbUrl(parameters))\n",
    "\n",
    "#Image(url = greenRegion.select(['ndvi']).getThumbUrl(parameters))"
   ]
  },
  {
   "cell_type": "code",
   "execution_count": 78,
   "metadata": {
    "colab": {
     "base_uri": "https://localhost:8080/",
     "height": 842
    },
    "colab_type": "code",
    "id": "7dN-z8cfDhd7",
    "outputId": "0e2c0487-1c64-47ff-d820-4ca0178e20ad"
   },
   "outputs": [
    {
     "data": {
      "text/html": [
       "<div style=\"width:100%;\"><div style=\"position:relative;width:100%;height:0;padding-bottom:60%;\"><span style=\"color:#565656\">Make this Notebook Trusted to load map: File -> Trust Notebook</span><iframe src=\"about:blank\" style=\"position:absolute;width:100%;height:100%;left:0;top:0;border:none !important;\" data-html=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 onload=\"this.contentDocument.open();this.contentDocument.write(atob(this.getAttribute('data-html')));this.contentDocument.close();\" allowfullscreen webkitallowfullscreen mozallowfullscreen></iframe></div></div>"
      ],
      "text/plain": [
       "<folium.folium.Map at 0x7f6b35caa810>"
      ]
     },
     "execution_count": 78,
     "metadata": {},
     "output_type": "execute_result"
    }
   ],
   "source": [
    "my_map = folium.Map(location=[ 17.429, 78.483], zoom_start=9, height=500) #Adding result to folium map\n",
    "\n",
    "my_map.add_ee_layer(result, {'min': 0, 'max': numClusters-1, 'palette': ['white', 'blue', 'green'], 'opacity':0.6}, 'clustering')\n",
    "my_map.add_ee_layer(waterRegion.select(['ndwi']), {'min': 0, 'max': 1, 'palette': ['white', 'blue'], 'opacity':0.6}, 'ndwi')\n",
    "my_map.add_ee_layer(greenRegion.select(['ndvi']), {'min': 0, 'max': 1, 'palette': ['white', 'green'], 'opacity':0.6}, 'ndvi')\n",
    "my_map.add_child(folium.LayerControl())"
   ]
  },
  {
   "cell_type": "code",
   "execution_count": 79,
   "metadata": {
    "colab": {},
    "colab_type": "code",
    "id": "2H4OJiRJDjUf"
   },
   "outputs": [],
   "source": [
    "import cv2 as cv2"
   ]
  },
  {
   "cell_type": "code",
   "execution_count": 80,
   "metadata": {
    "colab": {},
    "colab_type": "code",
    "id": "H-bbJeMKxOUc"
   },
   "outputs": [],
   "source": [
    "import numpy as np"
   ]
  },
  {
   "cell_type": "code",
   "execution_count": 81,
   "metadata": {},
   "outputs": [],
   "source": [
    "import skimage\n",
    "from skimage import io"
   ]
  },
  {
   "cell_type": "code",
   "execution_count": 82,
   "metadata": {},
   "outputs": [
    {
     "data": {
      "text/html": [
       "<img src=\"https://earthengine.googleapis.com/v1alpha/projects/earthengine-legacy/thumbnails/be88e31514320b3af56a5afd2a35d503-dc183019212328169e49b28bc085c05e:getPixels\"/>"
      ],
      "text/plain": [
       "<IPython.core.display.Image object>"
      ]
     },
     "execution_count": 82,
     "metadata": {},
     "output_type": "execute_result"
    }
   ],
   "source": [
    "parameters = {'min': 0,\n",
    "              'max': 2,\n",
    "              'dimensions': 600,\n",
    "            'palette': ['white', 'blue', 'green']}\n",
    "Image(url = result.select(['cluster']).clip(roisite).getThumbUrl(parameters))"
   ]
  },
  {
   "cell_type": "code",
   "execution_count": 83,
   "metadata": {},
   "outputs": [
    {
     "data": {
      "text/html": [
       "<img src=\"https://earthengine.googleapis.com/v1alpha/projects/earthengine-legacy/thumbnails/b54022bf04c9a8daa34090974a00ebf1-65e7f452365db5dd03deba452a797b7e:getPixels\"/>"
      ],
      "text/plain": [
       "<IPython.core.display.Image object>"
      ]
     },
     "execution_count": 83,
     "metadata": {},
     "output_type": "execute_result"
    }
   ],
   "source": [
    "parameters = {'min': 0,\n",
    "              'max': 1,\n",
    "              'dimensions': 600,\n",
    "            'palette': ['white', 'blue']}\n",
    "Image(url = waterRegion.select(['ndwi']).clip(roisite).getThumbUrl(parameters))"
   ]
  },
  {
   "cell_type": "code",
   "execution_count": 84,
   "metadata": {},
   "outputs": [
    {
     "data": {
      "text/html": [
       "<img src=\"https://earthengine.googleapis.com/v1alpha/projects/earthengine-legacy/thumbnails/44b29085a2304e56bd5f03dccfaed764-68a28e6ba8e37a2285bd72edd886e0a1:getPixels\"/>"
      ],
      "text/plain": [
       "<IPython.core.display.Image object>"
      ]
     },
     "execution_count": 84,
     "metadata": {},
     "output_type": "execute_result"
    }
   ],
   "source": [
    "parameters = {'min': -1,\n",
    "              'max': 1,\n",
    "              'dimensions': 600,\n",
    "            'palette': ['black','white', 'green']}\n",
    "Image(url = greenRegion.select(['ndvi']).clip(roisite).getThumbUrl(parameters))"
   ]
  },
  {
   "cell_type": "code",
   "execution_count": 85,
   "metadata": {},
   "outputs": [
    {
     "data": {
      "text/html": [
       "<img src=\"https://earthengine.googleapis.com/v1alpha/projects/earthengine-legacy/thumbnails/8635dcf1f1f135016d9b5d9e5394894f-0ce4920bce9fe64d0402b0c2446e332c:getPixels\"/>"
      ],
      "text/plain": [
       "<IPython.core.display.Image object>"
      ]
     },
     "execution_count": 85,
     "metadata": {},
     "output_type": "execute_result"
    }
   ],
   "source": [
    "jsonfilepath = '/home/arvindn/Research/TopicsOfInterest/Agriculture/Notes/AlmostCircleAroundHyderabad.json'\n",
    "with open(jsonfilepath) as f:\n",
    "    data = geojson.load(f)\n",
    "\n",
    "coords = np.array(data['features'][0]['geometry']['coordinates'][0])[:,0:2].tolist()\n",
    "\n",
    "eeGeom = ee.Geometry.Polygon(coords)\n",
    "\n",
    "eeFeat = ee.Feature(eeGeom)\n",
    "\n",
    "parameters = {'min': 0,\n",
    "              'max': 1,\n",
    "              'dimensions': 600,\n",
    "            'palette': ['white', 'blue']}\n",
    "Image(url = waterRegion.select(['ndwi']).clip(eeGeom).getThumbUrl(parameters))"
   ]
  },
  {
   "cell_type": "code",
   "execution_count": 117,
   "metadata": {},
   "outputs": [
    {
     "name": "stdout",
     "output_type": "stream",
     "text": [
      "7831\n",
      "7681\n",
      "LC81440482013359LGN01\n",
      "2013-12-25\n",
      "144\n",
      "48\n"
     ]
    }
   ],
   "source": [
    "print(image_list[0].get('REFLECTIVE_LINES').getInfo())\n",
    "print(image_list[0].get('REFLECTIVE_SAMPLES').getInfo())\n",
    "print(image_list[0].get('LANDSAT_SCENE_ID').getInfo())\n",
    "print(image_list[0].get('DATE_ACQUIRED').getInfo())\n",
    "print(image_list[0].get('WRS_PATH').getInfo())\n",
    "print(image_list[0].get('WRS_ROW').getInfo())\n",
    "\n",
    "#image_list[0].propertyNames().getInfo()"
   ]
  },
  {
   "cell_type": "code",
   "execution_count": 86,
   "metadata": {},
   "outputs": [],
   "source": [
    "jsonfilepath = '/home/arvindn/Research/TopicsOfInterest/Agriculture/Notes/AlmostCircleAroundHyderabad.json'\n",
    "with open(jsonfilepath) as f:\n",
    "    data = geojson.load(f)\n",
    "\n",
    "coords = np.array(data['features'][0]['geometry']['coordinates'][0])[:,0:2].tolist()\n",
    "\n",
    "eeGeom = ee.Geometry.Polygon(coords)\n",
    "\n",
    "eeFeat = ee.Feature(eeGeom)\n",
    "\n",
    "parameters = {'min': 0,\n",
    "              'max': 1,\n",
    "              'dimensions': 600,\n",
    "            'palette': ['white', 'blue']}\n",
    "hydThumbURL = waterRegion.select(['ndwi']).clip(eeGeom).getThumbURL(parameters)"
   ]
  },
  {
   "cell_type": "code",
   "execution_count": 125,
   "metadata": {},
   "outputs": [],
   "source": [
    "parameters = {'min': 0,\n",
    "              'max': 1,\n",
    "              'scale': 30,\n",
    "            'palette': ['white', 'blue'],\n",
    "             'crs': inputimg.select(['B1']).projection().getInfo()['crs']}\n",
    "hydDownloadURL = waterRegion.select(['ndwi']).clip(eeGeom).getDownloadURL(parameters)\n",
    "#hydThumbURL = waterRegion.select(['ndwi']).clip(eeGeom).getThumbURL(parameters)"
   ]
  },
  {
   "cell_type": "code",
   "execution_count": 126,
   "metadata": {},
   "outputs": [],
   "source": [
    "#z.extractall(\"downloadedWaterImage.tif\")\n",
    "date_acq = image_list[0].get('DATE_ACQUIRED').getInfo()\n",
    "wrs_path = image_list[0].get('WRS_PATH').getInfo()\n",
    "wrs_row = image_list[0].get('WRS_ROW').getInfo()\n",
    "\n",
    "zipfilename = str(date_acq)+'_'+str(wrs_path)+'_'+str(wrs_row)+'_NearHyderabad.zip'\n",
    "urllib.request.urlretrieve(hydDownloadURL, zipfilename)"
   ]
  },
  {
   "cell_type": "code",
   "execution_count": 130,
   "metadata": {},
   "outputs": [
    {
     "data": {
      "text/plain": [
       "'2013-12-25_144_48_NearHyderabad'"
      ]
     },
     "execution_count": 130,
     "metadata": {},
     "output_type": "execute_result"
    }
   ],
   "source": [
    "zipfilename.split('.')[0]"
   ]
  },
  {
   "cell_type": "code",
   "execution_count": 136,
   "metadata": {},
   "outputs": [],
   "source": [
    "import zipfile\n",
    "zipf = zipfile.ZipFile(zipfilename, 'r')\n",
    "zipf.extractall()\n",
    "\n",
    "import os\n",
    "tif_filename = zipfilename.split('.')[0]+'.tif'\n",
    "os.rename('download.ndwi.tif', tif_filename)"
   ]
  },
  {
   "cell_type": "code",
   "execution_count": 134,
   "metadata": {},
   "outputs": [],
   "source": [
    "import cv2 as cv2\n",
    "import numpy as np\n",
    "\n",
    "from skimage import io"
   ]
  },
  {
   "cell_type": "code",
   "execution_count": 137,
   "metadata": {},
   "outputs": [],
   "source": [
    "waterHyd = io.imread(tif_filename)\n",
    "waterHyd.shape"
   ]
  },
  {
   "cell_type": "code",
   "execution_count": 140,
   "metadata": {},
   "outputs": [
    {
     "data": {
      "text/plain": [
       "0"
      ]
     },
     "execution_count": 140,
     "metadata": {},
     "output_type": "execute_result"
    }
   ],
   "source": [
    "waterHyd.min()"
   ]
  },
  {
   "cell_type": "code",
   "execution_count": 141,
   "metadata": {},
   "outputs": [
    {
     "data": {
      "text/plain": [
       "<matplotlib.image.AxesImage at 0x7f6b1f7e93d0>"
      ]
     },
     "execution_count": 141,
     "metadata": {},
     "output_type": "execute_result"
    },
    {
     "data": {
      "image/png": "[encoded data removed]",
      "text/plain": [
       "<Figure size 432x288 with 1 Axes>"
      ]
     },
     "metadata": {
      "needs_background": "light"
     },
     "output_type": "display_data"
    }
   ],
   "source": [
    "ret,thresh = cv2.threshold(waterHyd,0.5,255,0) #thresholding, this time using\n",
    "                                            #OpenCV\n",
    "\n",
    "io.imshow(thresh) #showing the image using skimage.io"
   ]
  },
  {
   "cell_type": "code",
   "execution_count": 142,
   "metadata": {},
   "outputs": [],
   "source": [
    "#Drawing contours - not sure how openCV does it.\n",
    "contours, hierarchy = cv2.findContours(thresh, \n",
    "                                       cv2.RETR_TREE, \n",
    "                                       cv2.CHAIN_APPROX_SIMPLE)"
   ]
  },
  {
   "cell_type": "code",
   "execution_count": 146,
   "metadata": {
    "scrolled": false
   },
   "outputs": [
    {
     "data": {
      "text/plain": [
       "Text(0.5, 1.0, '2013-12-25')"
      ]
     },
     "execution_count": 146,
     "metadata": {},
     "output_type": "execute_result"
    },
    {
     "data": {
      "image/png": "[encoded data removed]",
      "text/plain": [
       "<Figure size 432x288 with 1 Axes>"
      ]
     },
     "metadata": {
      "needs_background": "light"
     },
     "output_type": "display_data"
    }
   ],
   "source": [
    "f, ax1 = plt.subplots(1)\n",
    "\n",
    "frame = thresh\n",
    "for i, contour in enumerate(contours):\n",
    "    c_area = cv2.contourArea(contour)\n",
    "    c_perimeter = cv2.arcLength(contour, True)\n",
    "    if (c_area > 16):\n",
    "        moments_cnt = cv2.moments(contour)\n",
    "        cx = int(moments_cnt['m10']/moments_cnt['m00'])\n",
    "        cy = int(moments_cnt['m01']/moments_cnt['m00'])\n",
    "        #print(\"area: \", c_area, \"centroid: \", (cx, cy), \"perimeter: \", c_perimeter)\n",
    "        #ax1.plot(cx, cy, 'o')\n",
    "        frame = cv2.drawContours(frame, contour, -1, (0, 255, 0), 2)\n",
    "\n",
    "\n",
    "frameWithContours = cv2.drawContours(frame, contours, -1, (0, 255, 0), 2)\n",
    "\n",
    "#ax1.imshow(frameWithContours)\n",
    "ax1.imshow(frame)\n",
    "ax1.set_title(str(date_acq))"
   ]
  },
  {
   "cell_type": "code",
   "execution_count": 149,
   "metadata": {},
   "outputs": [
    {
     "data": {
      "text/plain": [
       "<matplotlib.image.AxesImage at 0x7f6b1e100f10>"
      ]
     },
     "execution_count": 149,
     "metadata": {},
     "output_type": "execute_result"
    },
    {
     "data": {
      "image/png": "[encoded data removed]",
      "text/plain": [
       "<Figure size 432x288 with 1 Axes>"
      ]
     },
     "metadata": {
      "needs_background": "light"
     },
     "output_type": "display_data"
    }
   ],
   "source": [
    "plt.imshow(frame[1300:1950,750:1600])"
   ]
  },
  {
   "cell_type": "code",
   "execution_count": 148,
   "metadata": {},
   "outputs": [
    {
     "data": {
      "text/plain": [
       "array([ 1.69515,  2.40615,  4.30425, 10.14075, 13.69485])"
      ]
     },
     "execution_count": 148,
     "metadata": {},
     "output_type": "execute_result"
    }
   ],
   "source": [
    "contoursArea = map(cv2.contourArea, contours)\n",
    "contoursAreaNumpy = np.sort(list(contoursArea))\n",
    "np.sort(contoursAreaNumpy)[-5:]*900/1e6 #area in km^2"
   ]
  }
 ],
 "metadata": {
  "colab": {
   "collapsed_sections": [],
   "name": "TestingUnsupervisedClassification_AdaptationOfGEEtutorial_Hyderabad_WithPixelLonLat.ipynb",
   "provenance": []
  },
  "kernelspec": {
   "display_name": "Python [conda env:ee]",
   "language": "python",
   "name": "conda-env-ee-py"
  },
  "language_info": {
   "codemirror_mode": {
    "name": "ipython",
    "version": 3
   },
   "file_extension": ".py",
   "mimetype": "text/x-python",
   "name": "python",
   "nbconvert_exporter": "python",
   "pygments_lexer": "ipython3",
   "version": "3.7.6"
  }
 },
 "nbformat": 4,
 "nbformat_minor": 2
}
